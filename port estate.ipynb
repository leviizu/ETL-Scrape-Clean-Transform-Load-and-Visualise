{
 "cells": [
  {
   "cell_type": "markdown",
   "id": "90bcf6a9",
   "metadata": {},
   "source": [
    "# Sreality.com (real estate marketplace) scrape, clean, transform, load, and Visualise"
   ]
  },
  {
   "cell_type": "markdown",
   "id": "da7cd542",
   "metadata": {},
   "source": [
    "## Project Purpose:"
   ]
  },
  {
   "cell_type": "markdown",
   "id": "3a946e02",
   "metadata": {},
   "source": [
    "To demonstrate a full Web scraping ETL project from scrapping through transformation to visualisation"
   ]
  },
  {
   "cell_type": "markdown",
   "id": "37c3f685",
   "metadata": {},
   "source": [
    "## Business Case:"
   ]
  },
  {
   "cell_type": "markdown",
   "id": "a8667395",
   "metadata": {},
   "source": [
    "- To accurately identify apartments that have above average price to rent ratio across streets, districts, and cities\n",
    "\n",
    "- To accurately identify apartments with below average rents across apartment types and cities\n",
    "\n",
    "- To accurately identify apartments with below average prices across apartment types and cities"
   ]
  },
  {
   "cell_type": "code",
   "execution_count": 1,
   "id": "fbd5cc10",
   "metadata": {},
   "outputs": [],
   "source": [
    "#importing python libraries\n",
    "from bs4 import BeautifulSoup\n",
    "import requests as rq"
   ]
  },
  {
   "cell_type": "code",
   "execution_count": 2,
   "id": "c3a57295",
   "metadata": {},
   "outputs": [],
   "source": [
    "import pandas as pd"
   ]
  },
  {
   "cell_type": "markdown",
   "id": "da6af292",
   "metadata": {},
   "source": [
    "## Extracting all tables from the HTML file\n"
   ]
  },
  {
   "cell_type": "markdown",
   "id": "c81e22e1",
   "metadata": {},
   "source": [
    "Since rent and sales data each are needed for two cities (Brno and Prague), we will be scraping these data \n",
    "separately, then merge and concat them. These cities will be selected on the website and data will be extracted\n",
    "from the url "
   ]
  },
  {
   "cell_type": "code",
   "execution_count": 3,
   "id": "8df452b4",
   "metadata": {},
   "outputs": [
    {
     "name": "stdout",
     "output_type": "stream",
     "text": [
      "None\n"
     ]
    }
   ],
   "source": [
    "#Fetch HTML using request\n",
    "url = 'https://www.sreality.cz/en/search/to-rent/apartments/jihomoravsky-kraj?page=2'\n",
    "#Extract HTMl tree\n",
    "page = rq.get(url).text\n",
    "soup = BeautifulSoup(page)\n",
    "properties_list=soup.find('property-list')\n",
    "print(properties_list)"
   ]
  },
  {
   "cell_type": "code",
   "execution_count": 4,
   "id": "b9e15d9a",
   "metadata": {},
   "outputs": [],
   "source": [
    "#since Beautiful soup is returning none, we will try selenium\n",
    "import time\n",
    "from selenium import webdriver\n",
    "from selenium.webdriver.firefox.options import Options"
   ]
  },
  {
   "cell_type": "markdown",
   "id": "d792131e",
   "metadata": {},
   "source": [
    "### Extracting sales data for Brno"
   ]
  },
  {
   "cell_type": "code",
   "execution_count": null,
   "id": "373b5f80",
   "metadata": {},
   "outputs": [],
   "source": [
    "#sales data brno\n",
    "#importing url using selenium\n",
    "options = Options()\n",
    "options.add_argument('--disable-blink-features=AutomationControlled')\n",
    "driver.set_script_timeout(\"600\")\n",
    "driver = webdriver.Chrome()\n",
    "url_list_sales_brno = 'https://www.sreality.cz/en/search/for-sale/apartments/brno,brno-venkov?page='\n",
    "urls_sales_brno=[]\n",
    "page_checking = True\n",
    "page_count = 1\n",
    "#looping through pages until the last page\n",
    "#we will maually check the last page to extract the HTML class of every last page \n",
    "while page_checking:\n",
    "    url_sales_brno = url_list_sales_brno + str(page_count)\n",
    "    driver.get(url_sales_brno)\n",
    "    driver.maximize_window()\n",
    "    \n",
    "    # pause to stay within the limit of number of requests\n",
    "    time.sleep(5)\n",
    "    response = driver.page_source.encode('utf-8').strip()\n",
    "    soup = BeautifulSoup(response, 'lxml')\n",
    "    \n",
    "    last_page = soup.find('p', class_=\"status-text ng-binding\")#class of the last page\n",
    "    \n",
    "    if last_page is not None:#checking page status\n",
    "        page_checking = False\n",
    "    \n",
    "    else:\n",
    "        urls_sales_brno.append(url_sales_brno)\n",
    "        # go to the next page\n",
    "        page_count = page_count+1\n",
    "driver.quit()"
   ]
  },
  {
   "cell_type": "code",
   "execution_count": 12,
   "id": "f37f2dcd",
   "metadata": {},
   "outputs": [],
   "source": [
    "#looping through each page/url to extract listings\n",
    "listings_sales_brno=[]\n",
    "for webpages in urls_sales_brno:\n",
    "    #importing url using selenium\n",
    "    driver = webdriver.Chrome()\n",
    "    driver.get(webpages)\n",
    "    time.sleep(5)\n",
    "    responses = driver.page_source.encode('utf-8').strip()\n",
    "    soup = BeautifulSoup(responses, 'lxml')\n",
    "    li = soup.find_all('div', class_='info clear ng-scope')\n",
    "    listings_sales_brno.append(li)\n",
    "driver.quit()"
   ]
  },
  {
   "cell_type": "markdown",
   "id": "29b3a51e",
   "metadata": {},
   "source": [
    "### Extracting, cleaning, and transforming required fields"
   ]
  },
  {
   "cell_type": "markdown",
   "id": "07e3473e",
   "metadata": {},
   "source": [
    "#### Looping through to get individual properties/fields\n"
   ]
  },
  {
   "cell_type": "code",
   "execution_count": 13,
   "id": "4f152e76",
   "metadata": {},
   "outputs": [],
   "source": [
    "#extracting and cleaning apartment types \n",
    "types_brno_sales=[]\n",
    "for apartments in listings_sales_brno:\n",
    "    for listing in apartments:\n",
    "        apt_type=listing.find('span',class_=\"name ng-binding\").text.split('apartment')[1][:5].strip()\n",
    "        types_brno_sales.append(apt_type)"
   ]
  },
  {
   "cell_type": "code",
   "execution_count": 14,
   "id": "1ea4bc1f",
   "metadata": {},
   "outputs": [],
   "source": [
    "#extracting and cleaning apartment sizes without units\n",
    "sizes_brno_sales=[]\n",
    "for apartments in listings_sales_brno:\n",
    "    for listing in apartments:   \n",
    "        apt_size=listing.find('span',class_=\"name ng-binding\").text.replace('+1',',').replace('kt',',').split(',')\\\n",
    "        [-1].split('m²')[0].split('unusual')[-1].split('plus')[-1].strip()\n",
    "        sizes_brno_sales.append(apt_size)"
   ]
  },
  {
   "cell_type": "code",
   "execution_count": 15,
   "id": "6bc6f6d8",
   "metadata": {},
   "outputs": [],
   "source": [
    "#extracting and cleaning units \n",
    "units_brno_sales=[]\n",
    "for apartments in listings_sales_brno:\n",
    "    for listing in apartments:   \n",
    "        apt_units=listing.find('span',class_=\"name ng-binding\").text.replace('+1',',').replace('kt',',')\\\n",
    "        .rpartition('m²')[1].strip()\n",
    "        #.split(',')\\\n",
    "        [-1][3:]\n",
    "        units_brno_sales.append(apt_units)"
   ]
  },
  {
   "cell_type": "code",
   "execution_count": 16,
   "id": "5e9e972e",
   "metadata": {},
   "outputs": [],
   "source": [
    "#extracting and cleaning streets\n",
    "streets_brno_sales=[]\n",
    "for apartments in listings_sales_brno:\n",
    "    for listing in apartments:    \n",
    "        apt_street=listing.find('span', class_=\"locality ng-binding\").text.split(' ')[0].split(',')[0].strip()\n",
    "        streets_brno_sales.append(apt_street)"
   ]
  },
  {
   "cell_type": "code",
   "execution_count": 17,
   "id": "41a151c3",
   "metadata": {},
   "outputs": [],
   "source": [
    "#extracting and cleaning municipal_district\n",
    "municipal_district_brno_sales=[]\n",
    "for apartments in listings_sales_brno:\n",
    "    for listing in apartments:\n",
    "        apt_municipal_district=listing.find('span', class_=\"locality ng-binding\").text.split(' ')[1].strip()\n",
    "        municipal_district_brno_sales.append(apt_municipal_district)"
   ]
  },
  {
   "cell_type": "code",
   "execution_count": 18,
   "id": "e46412b7",
   "metadata": {},
   "outputs": [],
   "source": [
    "#extracting and cleaning features\n",
    "other_features_brno_sales=[]\n",
    "for apartments in listings_sales_brno:\n",
    "    for listing in apartments:\n",
    "        features=[]\n",
    "        feature=listing.find('span', class_=\"label ng-binding ng-scope\")\n",
    "        features.append(feature)\n",
    "        for feat in features:\n",
    "            if feat is not None:\n",
    "                otherfeatures = feat.text.replace('\\n\\t\\t\\t\\t\\t','').strip()\n",
    "            else:\n",
    "                otherfeatures = None\n",
    "            other_features_brno_sales.append(otherfeatures)"
   ]
  },
  {
   "cell_type": "code",
   "execution_count": 19,
   "id": "b19ea4f3",
   "metadata": {},
   "outputs": [],
   "source": [
    "#extracting and cleaning neighbourhood\n",
    "neighbourhood_brno_sales=[]\n",
    "for apartments in listings_sales_brno:\n",
    "    for listing in apartments:\n",
    "        apt_neighbourhood=listing.find('span', class_=\"locality ng-binding\").text.split(' ')[-1].strip()\n",
    "        neighbourhood_brno_sales.append(apt_neighbourhood)"
   ]
  },
  {
   "cell_type": "code",
   "execution_count": 20,
   "id": "3c3c8cbf",
   "metadata": {},
   "outputs": [],
   "source": [
    "#extracting and cleaning price\n",
    "price_brno_sales=[]\n",
    "for apartments in listings_sales_brno:\n",
    "    for listing in apartments:\n",
    "        apt_price=listing.find('span', class_=\"norm-price ng-binding\").text.split('per')[0].replace('CZK','').strip()\n",
    "        price_brno_sales.append(apt_price)"
   ]
  },
  {
   "cell_type": "code",
   "execution_count": 172,
   "id": "1d6be1b6",
   "metadata": {
    "scrolled": true
   },
   "outputs": [],
   "source": [
    "# create a dataframe that will store all properties \n",
    "brno_sales=pd.DataFrame({'types': types_brno_sales,'sizes':sizes_brno_sales,'units':units_brno_sales,'streets'\\\n",
    "                         :streets_brno_sales,'municipal_district':municipal_district_brno_sales,'neighbourhood'\\\n",
    "                         :neighbourhood_brno_sales,'price':price_brno_sales,'other_features':\\\n",
    "                         other_features_brno_sales})"
   ]
  },
  {
   "cell_type": "code",
   "execution_count": 161,
   "id": "f1bb6907",
   "metadata": {},
   "outputs": [
    {
     "data": {
      "text/html": [
       "<div>\n",
       "<style scoped>\n",
       "    .dataframe tbody tr th:only-of-type {\n",
       "        vertical-align: middle;\n",
       "    }\n",
       "\n",
       "    .dataframe tbody tr th {\n",
       "        vertical-align: top;\n",
       "    }\n",
       "\n",
       "    .dataframe thead th {\n",
       "        text-align: right;\n",
       "    }\n",
       "</style>\n",
       "<table border=\"1\" class=\"dataframe\">\n",
       "  <thead>\n",
       "    <tr style=\"text-align: right;\">\n",
       "      <th></th>\n",
       "      <th>types</th>\n",
       "      <th>sizes</th>\n",
       "      <th>units</th>\n",
       "      <th>streets</th>\n",
       "      <th>municipal_district</th>\n",
       "      <th>neighbourhood</th>\n",
       "      <th>price</th>\n",
       "      <th>other_features</th>\n",
       "      <th>CostPerSquaremetre</th>\n",
       "      <th>Separate_kitchen</th>\n",
       "      <th>data category</th>\n",
       "    </tr>\n",
       "  </thead>\n",
       "  <tbody>\n",
       "    <tr>\n",
       "      <th>0</th>\n",
       "      <td>1+1</td>\n",
       "      <td>25</td>\n",
       "      <td>m²</td>\n",
       "      <td>Gallašova</td>\n",
       "      <td>Brno</td>\n",
       "      <td>Štýřice</td>\n",
       "      <td>2240000</td>\n",
       "      <td>State owenship</td>\n",
       "      <td>89600.0</td>\n",
       "      <td>1</td>\n",
       "      <td>brno_sales</td>\n",
       "    </tr>\n",
       "    <tr>\n",
       "      <th>1</th>\n",
       "      <td>3+1</td>\n",
       "      <td>78</td>\n",
       "      <td>m²</td>\n",
       "      <td>Zikova</td>\n",
       "      <td>Brno</td>\n",
       "      <td>Líšeň</td>\n",
       "      <td>6380000</td>\n",
       "      <td>After reconstruction</td>\n",
       "      <td>81795.0</td>\n",
       "      <td>1</td>\n",
       "      <td>brno_sales</td>\n",
       "    </tr>\n",
       "    <tr>\n",
       "      <th>2</th>\n",
       "      <td>3+1</td>\n",
       "      <td>120</td>\n",
       "      <td>m²</td>\n",
       "      <td>Solniční</td>\n",
       "      <td>Brno</td>\n",
       "      <td>Brno-město</td>\n",
       "      <td>9100000</td>\n",
       "      <td>State owenship</td>\n",
       "      <td>75833.0</td>\n",
       "      <td>1</td>\n",
       "      <td>brno_sales</td>\n",
       "    </tr>\n",
       "    <tr>\n",
       "      <th>3</th>\n",
       "      <td>2+1</td>\n",
       "      <td>64</td>\n",
       "      <td>m²</td>\n",
       "      <td>Purkyňova</td>\n",
       "      <td>Brno</td>\n",
       "      <td>Brno</td>\n",
       "      <td>4750000</td>\n",
       "      <td>None</td>\n",
       "      <td>74219.0</td>\n",
       "      <td>1</td>\n",
       "      <td>brno_sales</td>\n",
       "    </tr>\n",
       "    <tr>\n",
       "      <th>4</th>\n",
       "      <td>2+1</td>\n",
       "      <td>96</td>\n",
       "      <td>m²</td>\n",
       "      <td>Ruská</td>\n",
       "      <td>Brno</td>\n",
       "      <td>Pole</td>\n",
       "      <td>7790000</td>\n",
       "      <td>None</td>\n",
       "      <td>81146.0</td>\n",
       "      <td>1</td>\n",
       "      <td>brno_sales</td>\n",
       "    </tr>\n",
       "  </tbody>\n",
       "</table>\n",
       "</div>"
      ],
      "text/plain": [
       "  types  sizes units    streets municipal_district neighbourhood    price  \\\n",
       "0   1+1     25    m²  Gallašova               Brno       Štýřice  2240000   \n",
       "1   3+1     78    m²     Zikova               Brno         Líšeň  6380000   \n",
       "2   3+1    120    m²   Solniční               Brno    Brno-město  9100000   \n",
       "3   2+1     64    m²  Purkyňova               Brno          Brno  4750000   \n",
       "4   2+1     96    m²      Ruská               Brno          Pole  7790000   \n",
       "\n",
       "         other_features  CostPerSquaremetre Separate_kitchen data category  \n",
       "0        State owenship             89600.0                1    brno_sales  \n",
       "1  After reconstruction             81795.0                1    brno_sales  \n",
       "2        State owenship             75833.0                1    brno_sales  \n",
       "3                  None             74219.0                1    brno_sales  \n",
       "4                  None             81146.0                1    brno_sales  "
      ]
     },
     "execution_count": 161,
     "metadata": {},
     "output_type": "execute_result"
    }
   ],
   "source": [
    "brno_sales.head()"
   ]
  },
  {
   "cell_type": "markdown",
   "id": "303c14f8",
   "metadata": {},
   "source": [
    "#### Performing EDA and Dropping outlier rows"
   ]
  },
  {
   "cell_type": "code",
   "execution_count": 162,
   "id": "692ebdc8",
   "metadata": {
    "scrolled": true
   },
   "outputs": [
    {
     "data": {
      "text/html": [
       "<div>\n",
       "<style scoped>\n",
       "    .dataframe tbody tr th:only-of-type {\n",
       "        vertical-align: middle;\n",
       "    }\n",
       "\n",
       "    .dataframe tbody tr th {\n",
       "        vertical-align: top;\n",
       "    }\n",
       "\n",
       "    .dataframe thead th {\n",
       "        text-align: right;\n",
       "    }\n",
       "</style>\n",
       "<table border=\"1\" class=\"dataframe\">\n",
       "  <thead>\n",
       "    <tr style=\"text-align: right;\">\n",
       "      <th></th>\n",
       "      <th>types</th>\n",
       "      <th>sizes</th>\n",
       "      <th>units</th>\n",
       "      <th>streets</th>\n",
       "      <th>municipal_district</th>\n",
       "      <th>neighbourhood</th>\n",
       "      <th>price</th>\n",
       "      <th>other_features</th>\n",
       "      <th>CostPerSquaremetre</th>\n",
       "      <th>Separate_kitchen</th>\n",
       "      <th>data category</th>\n",
       "    </tr>\n",
       "  </thead>\n",
       "  <tbody>\n",
       "    <tr>\n",
       "      <th>0</th>\n",
       "      <td>1+1</td>\n",
       "      <td>25</td>\n",
       "      <td>m²</td>\n",
       "      <td>Gallašova</td>\n",
       "      <td>Brno</td>\n",
       "      <td>Štýřice</td>\n",
       "      <td>2240000</td>\n",
       "      <td>State owenship</td>\n",
       "      <td>89600.0</td>\n",
       "      <td>1</td>\n",
       "      <td>brno_sales</td>\n",
       "    </tr>\n",
       "    <tr>\n",
       "      <th>1</th>\n",
       "      <td>3+1</td>\n",
       "      <td>78</td>\n",
       "      <td>m²</td>\n",
       "      <td>Zikova</td>\n",
       "      <td>Brno</td>\n",
       "      <td>Líšeň</td>\n",
       "      <td>6380000</td>\n",
       "      <td>After reconstruction</td>\n",
       "      <td>81795.0</td>\n",
       "      <td>1</td>\n",
       "      <td>brno_sales</td>\n",
       "    </tr>\n",
       "    <tr>\n",
       "      <th>2</th>\n",
       "      <td>3+1</td>\n",
       "      <td>120</td>\n",
       "      <td>m²</td>\n",
       "      <td>Solniční</td>\n",
       "      <td>Brno</td>\n",
       "      <td>Brno-město</td>\n",
       "      <td>9100000</td>\n",
       "      <td>State owenship</td>\n",
       "      <td>75833.0</td>\n",
       "      <td>1</td>\n",
       "      <td>brno_sales</td>\n",
       "    </tr>\n",
       "    <tr>\n",
       "      <th>3</th>\n",
       "      <td>2+1</td>\n",
       "      <td>64</td>\n",
       "      <td>m²</td>\n",
       "      <td>Purkyňova</td>\n",
       "      <td>Brno</td>\n",
       "      <td>Brno</td>\n",
       "      <td>4750000</td>\n",
       "      <td>None</td>\n",
       "      <td>74219.0</td>\n",
       "      <td>1</td>\n",
       "      <td>brno_sales</td>\n",
       "    </tr>\n",
       "    <tr>\n",
       "      <th>4</th>\n",
       "      <td>2+1</td>\n",
       "      <td>96</td>\n",
       "      <td>m²</td>\n",
       "      <td>Ruská</td>\n",
       "      <td>Brno</td>\n",
       "      <td>Pole</td>\n",
       "      <td>7790000</td>\n",
       "      <td>None</td>\n",
       "      <td>81146.0</td>\n",
       "      <td>1</td>\n",
       "      <td>brno_sales</td>\n",
       "    </tr>\n",
       "  </tbody>\n",
       "</table>\n",
       "</div>"
      ],
      "text/plain": [
       "  types  sizes units    streets municipal_district neighbourhood    price  \\\n",
       "0   1+1     25    m²  Gallašova               Brno       Štýřice  2240000   \n",
       "1   3+1     78    m²     Zikova               Brno         Líšeň  6380000   \n",
       "2   3+1    120    m²   Solniční               Brno    Brno-město  9100000   \n",
       "3   2+1     64    m²  Purkyňova               Brno          Brno  4750000   \n",
       "4   2+1     96    m²      Ruská               Brno          Pole  7790000   \n",
       "\n",
       "         other_features  CostPerSquaremetre Separate_kitchen data category  \n",
       "0        State owenship             89600.0                1    brno_sales  \n",
       "1  After reconstruction             81795.0                1    brno_sales  \n",
       "2        State owenship             75833.0                1    brno_sales  \n",
       "3                  None             74219.0                1    brno_sales  \n",
       "4                  None             81146.0                1    brno_sales  "
      ]
     },
     "execution_count": 162,
     "metadata": {},
     "output_type": "execute_result"
    }
   ],
   "source": [
    "brno_sales.head()"
   ]
  },
  {
   "cell_type": "code",
   "execution_count": 24,
   "id": "37b9dc20",
   "metadata": {
    "scrolled": true
   },
   "outputs": [
    {
     "data": {
      "text/plain": [
       "2+kt    210\n",
       "3+kt    154\n",
       "1+kt    121\n",
       "2+1     114\n",
       "3+1     106\n",
       "4+kt     64\n",
       "1+1      48\n",
       "4+1      25\n",
       "unus     12\n",
       "5+kt      9\n",
       "5+1       4\n",
       "6 ro      3\n",
       "Name: types, dtype: int64"
      ]
     },
     "execution_count": 24,
     "metadata": {},
     "output_type": "execute_result"
    }
   ],
   "source": [
    "brno_sales['types'].value_counts()"
   ]
  },
  {
   "cell_type": "code",
   "execution_count": 163,
   "id": "8743d915",
   "metadata": {},
   "outputs": [
    {
     "data": {
      "text/plain": [
       "60     24\n",
       "55     19\n",
       "70     18\n",
       "35     17\n",
       "66     15\n",
       "       ..\n",
       "148     1\n",
       "287     1\n",
       "156     1\n",
       "104     1\n",
       "180     1\n",
       "Name: sizes, Length: 137, dtype: int64"
      ]
     },
     "execution_count": 163,
     "metadata": {},
     "output_type": "execute_result"
    }
   ],
   "source": [
    "brno_sales['sizes'].value_counts()"
   ]
  },
  {
   "cell_type": "code",
   "execution_count": 164,
   "id": "d045d88c",
   "metadata": {
    "scrolled": true
   },
   "outputs": [
    {
     "data": {
      "text/plain": [
       "Brno         552\n",
       "district      36\n",
       "Vyhlídce,     12\n",
       "Kasáren,       8\n",
       "náměstí,       7\n",
       "            ... \n",
       "IV.,           1\n",
       "Telnice        1\n",
       "Drásov         1\n",
       "Dráhy,         1\n",
       "nábřeží,       1\n",
       "Name: municipal_district, Length: 66, dtype: int64"
      ]
     },
     "execution_count": 164,
     "metadata": {},
     "output_type": "execute_result"
    }
   ],
   "source": [
    "brno_sales['municipal_district'].value_counts()"
   ]
  },
  {
   "cell_type": "code",
   "execution_count": 165,
   "id": "a1566887",
   "metadata": {},
   "outputs": [
    {
     "data": {
      "text/plain": [
       "Kamechy        26\n",
       "Bystrcká       20\n",
       "Táborská       19\n",
       "Na             17\n",
       "Spolková       15\n",
       "               ..\n",
       "Královka        1\n",
       "Podstránská     1\n",
       "Přírodní        1\n",
       "Pavlovská       1\n",
       "Jircháře        1\n",
       "Name: streets, Length: 339, dtype: int64"
      ]
     },
     "execution_count": 165,
     "metadata": {},
     "output_type": "execute_result"
    }
   ],
   "source": [
    "brno_sales['streets'].value_counts()"
   ]
  },
  {
   "cell_type": "code",
   "execution_count": 166,
   "id": "b9a82e47",
   "metadata": {
    "scrolled": true
   },
   "outputs": [
    {
     "data": {
      "text/plain": [
       "Brno           65\n",
       "Židenice       65\n",
       "Zábrdovice     56\n",
       "Pole           46\n",
       "Brno-venkov    40\n",
       "               ..\n",
       "Drásov          1\n",
       "Telnice         1\n",
       "Popůvky         1\n",
       "Kounice         1\n",
       "Střelice        1\n",
       "Name: neighbourhood, Length: 65, dtype: int64"
      ]
     },
     "execution_count": 166,
     "metadata": {},
     "output_type": "execute_result"
    }
   ],
   "source": [
    "brno_sales['neighbourhood'].value_counts()"
   ]
  },
  {
   "cell_type": "code",
   "execution_count": 170,
   "id": "0ea1f85f",
   "metadata": {
    "scrolled": true
   },
   "outputs": [
    {
     "data": {
      "text/plain": [
       "Loggia                  77\n",
       "New buildings           64\n",
       "After reconstruction    63\n",
       "In construction         51\n",
       "Concrete                39\n",
       "Name: other_features, dtype: int64"
      ]
     },
     "execution_count": 170,
     "metadata": {},
     "output_type": "execute_result"
    }
   ],
   "source": [
    "brno_sales['other_features'].value_counts().head()"
   ]
  },
  {
   "cell_type": "code",
   "execution_count": 173,
   "id": "ca02a61d",
   "metadata": {},
   "outputs": [],
   "source": [
    "brno_sales.drop(brno_sales[brno_sales['price'].str.contains('Information')].index, inplace=True)"
   ]
  },
  {
   "cell_type": "code",
   "execution_count": 31,
   "id": "a6c36c05",
   "metadata": {},
   "outputs": [],
   "source": [
    "brno_sales.drop(brno_sales[brno_sales['streets']=='Brno'].index, inplace=True)"
   ]
  },
  {
   "cell_type": "code",
   "execution_count": 32,
   "id": "4f4edd12",
   "metadata": {},
   "outputs": [],
   "source": [
    "brno_sales['types']=brno_sales['types'].str.replace(u'\\xa0',u' ').str.strip().str.replace(' ','')"
   ]
  },
  {
   "cell_type": "markdown",
   "id": "751900f8",
   "metadata": {},
   "source": [
    "#### Checking and converting types"
   ]
  },
  {
   "cell_type": "code",
   "execution_count": 33,
   "id": "0b158040",
   "metadata": {},
   "outputs": [
    {
     "name": "stdout",
     "output_type": "stream",
     "text": [
      "types                 object\n",
      "sizes                 object\n",
      "units                 object\n",
      "streets               object\n",
      "municipal_district    object\n",
      "neighbourhood         object\n",
      "price                 object\n",
      "other_features        object\n",
      "dtype: object\n"
     ]
    }
   ],
   "source": [
    "#checking types\n",
    "print(brno_sales.dtypes)"
   ]
  },
  {
   "cell_type": "code",
   "execution_count": 34,
   "id": "1221a1e6",
   "metadata": {},
   "outputs": [],
   "source": [
    "#converting sizes to int\n",
    "brno_sales['sizes']=brno_sales['sizes'].astype(int)"
   ]
  },
  {
   "cell_type": "code",
   "execution_count": 35,
   "id": "eafc09ca",
   "metadata": {},
   "outputs": [],
   "source": [
    "#converting prices to int\n",
    "#prices contains xa0 (unicode character)\n",
    "brno_sales['price']=brno_sales['price'].str.replace(u'\\xa0',u' ').str.strip().str.replace(' ','')\n",
    "brno_sales['price']=pd.to_numeric(brno_sales['price'])"
   ]
  },
  {
   "cell_type": "code",
   "execution_count": 36,
   "id": "a6a7514f",
   "metadata": {},
   "outputs": [
    {
     "data": {
      "text/html": [
       "<div>\n",
       "<style scoped>\n",
       "    .dataframe tbody tr th:only-of-type {\n",
       "        vertical-align: middle;\n",
       "    }\n",
       "\n",
       "    .dataframe tbody tr th {\n",
       "        vertical-align: top;\n",
       "    }\n",
       "\n",
       "    .dataframe thead th {\n",
       "        text-align: right;\n",
       "    }\n",
       "</style>\n",
       "<table border=\"1\" class=\"dataframe\">\n",
       "  <thead>\n",
       "    <tr style=\"text-align: right;\">\n",
       "      <th></th>\n",
       "      <th>types</th>\n",
       "      <th>sizes</th>\n",
       "      <th>units</th>\n",
       "      <th>streets</th>\n",
       "      <th>municipal_district</th>\n",
       "      <th>neighbourhood</th>\n",
       "      <th>price</th>\n",
       "      <th>other_features</th>\n",
       "    </tr>\n",
       "  </thead>\n",
       "  <tbody>\n",
       "    <tr>\n",
       "      <th>0</th>\n",
       "      <td>1+1</td>\n",
       "      <td>25</td>\n",
       "      <td>m²</td>\n",
       "      <td>Gallašova</td>\n",
       "      <td>Brno</td>\n",
       "      <td>Štýřice</td>\n",
       "      <td>2240000</td>\n",
       "      <td>State owenship</td>\n",
       "    </tr>\n",
       "    <tr>\n",
       "      <th>1</th>\n",
       "      <td>3+1</td>\n",
       "      <td>78</td>\n",
       "      <td>m²</td>\n",
       "      <td>Zikova</td>\n",
       "      <td>Brno</td>\n",
       "      <td>Líšeň</td>\n",
       "      <td>6380000</td>\n",
       "      <td>After reconstruction</td>\n",
       "    </tr>\n",
       "    <tr>\n",
       "      <th>2</th>\n",
       "      <td>3+1</td>\n",
       "      <td>120</td>\n",
       "      <td>m²</td>\n",
       "      <td>Solniční</td>\n",
       "      <td>Brno</td>\n",
       "      <td>Brno-město</td>\n",
       "      <td>9100000</td>\n",
       "      <td>State owenship</td>\n",
       "    </tr>\n",
       "    <tr>\n",
       "      <th>3</th>\n",
       "      <td>2+1</td>\n",
       "      <td>64</td>\n",
       "      <td>m²</td>\n",
       "      <td>Purkyňova</td>\n",
       "      <td>Brno</td>\n",
       "      <td>Brno</td>\n",
       "      <td>4750000</td>\n",
       "      <td>None</td>\n",
       "    </tr>\n",
       "    <tr>\n",
       "      <th>4</th>\n",
       "      <td>2+1</td>\n",
       "      <td>96</td>\n",
       "      <td>m²</td>\n",
       "      <td>Ruská</td>\n",
       "      <td>Brno</td>\n",
       "      <td>Pole</td>\n",
       "      <td>7790000</td>\n",
       "      <td>None</td>\n",
       "    </tr>\n",
       "  </tbody>\n",
       "</table>\n",
       "</div>"
      ],
      "text/plain": [
       "  types  sizes units    streets municipal_district neighbourhood    price  \\\n",
       "0   1+1     25    m²  Gallašova               Brno       Štýřice  2240000   \n",
       "1   3+1     78    m²     Zikova               Brno         Líšeň  6380000   \n",
       "2   3+1    120    m²   Solniční               Brno    Brno-město  9100000   \n",
       "3   2+1     64    m²  Purkyňova               Brno          Brno  4750000   \n",
       "4   2+1     96    m²      Ruská               Brno          Pole  7790000   \n",
       "\n",
       "         other_features  \n",
       "0        State owenship  \n",
       "1  After reconstruction  \n",
       "2        State owenship  \n",
       "3                  None  \n",
       "4                  None  "
      ]
     },
     "execution_count": 36,
     "metadata": {},
     "output_type": "execute_result"
    }
   ],
   "source": [
    "brno_sales.head()"
   ]
  },
  {
   "cell_type": "code",
   "execution_count": 37,
   "id": "56850caa",
   "metadata": {
    "scrolled": true
   },
   "outputs": [
    {
     "name": "stdout",
     "output_type": "stream",
     "text": [
      "<class 'pandas.core.frame.DataFrame'>\n",
      "Int64Index: 745 entries, 0 to 869\n",
      "Data columns (total 8 columns):\n",
      " #   Column              Non-Null Count  Dtype \n",
      "---  ------              --------------  ----- \n",
      " 0   types               745 non-null    object\n",
      " 1   sizes               745 non-null    int64 \n",
      " 2   units               745 non-null    object\n",
      " 3   streets             745 non-null    object\n",
      " 4   municipal_district  745 non-null    object\n",
      " 5   neighbourhood       745 non-null    object\n",
      " 6   price               745 non-null    int64 \n",
      " 7   other_features      580 non-null    object\n",
      "dtypes: int64(2), object(6)\n",
      "memory usage: 52.4+ KB\n"
     ]
    }
   ],
   "source": [
    "brno_sales.info()"
   ]
  },
  {
   "cell_type": "code",
   "execution_count": 38,
   "id": "8297a362",
   "metadata": {
    "scrolled": false
   },
   "outputs": [
    {
     "data": {
      "text/html": [
       "<div>\n",
       "<style scoped>\n",
       "    .dataframe tbody tr th:only-of-type {\n",
       "        vertical-align: middle;\n",
       "    }\n",
       "\n",
       "    .dataframe tbody tr th {\n",
       "        vertical-align: top;\n",
       "    }\n",
       "\n",
       "    .dataframe thead th {\n",
       "        text-align: right;\n",
       "    }\n",
       "</style>\n",
       "<table border=\"1\" class=\"dataframe\">\n",
       "  <thead>\n",
       "    <tr style=\"text-align: right;\">\n",
       "      <th></th>\n",
       "      <th>types</th>\n",
       "      <th>sizes</th>\n",
       "      <th>units</th>\n",
       "      <th>streets</th>\n",
       "      <th>municipal_district</th>\n",
       "      <th>neighbourhood</th>\n",
       "      <th>price</th>\n",
       "      <th>other_features</th>\n",
       "    </tr>\n",
       "  </thead>\n",
       "  <tbody>\n",
       "    <tr>\n",
       "      <th>count</th>\n",
       "      <td>745</td>\n",
       "      <td>745.000000</td>\n",
       "      <td>745</td>\n",
       "      <td>745</td>\n",
       "      <td>745</td>\n",
       "      <td>745</td>\n",
       "      <td>7.450000e+02</td>\n",
       "      <td>580</td>\n",
       "    </tr>\n",
       "    <tr>\n",
       "      <th>unique</th>\n",
       "      <td>12</td>\n",
       "      <td>NaN</td>\n",
       "      <td>1</td>\n",
       "      <td>339</td>\n",
       "      <td>66</td>\n",
       "      <td>65</td>\n",
       "      <td>NaN</td>\n",
       "      <td>40</td>\n",
       "    </tr>\n",
       "    <tr>\n",
       "      <th>top</th>\n",
       "      <td>2+kt</td>\n",
       "      <td>NaN</td>\n",
       "      <td>m²</td>\n",
       "      <td>Kamechy</td>\n",
       "      <td>Brno</td>\n",
       "      <td>Brno</td>\n",
       "      <td>NaN</td>\n",
       "      <td>Loggia</td>\n",
       "    </tr>\n",
       "    <tr>\n",
       "      <th>freq</th>\n",
       "      <td>183</td>\n",
       "      <td>NaN</td>\n",
       "      <td>745</td>\n",
       "      <td>26</td>\n",
       "      <td>552</td>\n",
       "      <td>65</td>\n",
       "      <td>NaN</td>\n",
       "      <td>77</td>\n",
       "    </tr>\n",
       "    <tr>\n",
       "      <th>mean</th>\n",
       "      <td>NaN</td>\n",
       "      <td>69.252349</td>\n",
       "      <td>NaN</td>\n",
       "      <td>NaN</td>\n",
       "      <td>NaN</td>\n",
       "      <td>NaN</td>\n",
       "      <td>6.197304e+06</td>\n",
       "      <td>NaN</td>\n",
       "    </tr>\n",
       "    <tr>\n",
       "      <th>std</th>\n",
       "      <td>NaN</td>\n",
       "      <td>35.856767</td>\n",
       "      <td>NaN</td>\n",
       "      <td>NaN</td>\n",
       "      <td>NaN</td>\n",
       "      <td>NaN</td>\n",
       "      <td>2.959686e+06</td>\n",
       "      <td>NaN</td>\n",
       "    </tr>\n",
       "    <tr>\n",
       "      <th>min</th>\n",
       "      <td>NaN</td>\n",
       "      <td>19.000000</td>\n",
       "      <td>NaN</td>\n",
       "      <td>NaN</td>\n",
       "      <td>NaN</td>\n",
       "      <td>NaN</td>\n",
       "      <td>1.260000e+06</td>\n",
       "      <td>NaN</td>\n",
       "    </tr>\n",
       "    <tr>\n",
       "      <th>25%</th>\n",
       "      <td>NaN</td>\n",
       "      <td>46.000000</td>\n",
       "      <td>NaN</td>\n",
       "      <td>NaN</td>\n",
       "      <td>NaN</td>\n",
       "      <td>NaN</td>\n",
       "      <td>4.290000e+06</td>\n",
       "      <td>NaN</td>\n",
       "    </tr>\n",
       "    <tr>\n",
       "      <th>50%</th>\n",
       "      <td>NaN</td>\n",
       "      <td>61.000000</td>\n",
       "      <td>NaN</td>\n",
       "      <td>NaN</td>\n",
       "      <td>NaN</td>\n",
       "      <td>NaN</td>\n",
       "      <td>5.450000e+06</td>\n",
       "      <td>NaN</td>\n",
       "    </tr>\n",
       "    <tr>\n",
       "      <th>75%</th>\n",
       "      <td>NaN</td>\n",
       "      <td>81.000000</td>\n",
       "      <td>NaN</td>\n",
       "      <td>NaN</td>\n",
       "      <td>NaN</td>\n",
       "      <td>NaN</td>\n",
       "      <td>7.250000e+06</td>\n",
       "      <td>NaN</td>\n",
       "    </tr>\n",
       "    <tr>\n",
       "      <th>max</th>\n",
       "      <td>NaN</td>\n",
       "      <td>314.000000</td>\n",
       "      <td>NaN</td>\n",
       "      <td>NaN</td>\n",
       "      <td>NaN</td>\n",
       "      <td>NaN</td>\n",
       "      <td>2.978900e+07</td>\n",
       "      <td>NaN</td>\n",
       "    </tr>\n",
       "  </tbody>\n",
       "</table>\n",
       "</div>"
      ],
      "text/plain": [
       "       types       sizes units  streets municipal_district neighbourhood  \\\n",
       "count    745  745.000000   745      745                745           745   \n",
       "unique    12         NaN     1      339                 66            65   \n",
       "top     2+kt         NaN    m²  Kamechy               Brno          Brno   \n",
       "freq     183         NaN   745       26                552            65   \n",
       "mean     NaN   69.252349   NaN      NaN                NaN           NaN   \n",
       "std      NaN   35.856767   NaN      NaN                NaN           NaN   \n",
       "min      NaN   19.000000   NaN      NaN                NaN           NaN   \n",
       "25%      NaN   46.000000   NaN      NaN                NaN           NaN   \n",
       "50%      NaN   61.000000   NaN      NaN                NaN           NaN   \n",
       "75%      NaN   81.000000   NaN      NaN                NaN           NaN   \n",
       "max      NaN  314.000000   NaN      NaN                NaN           NaN   \n",
       "\n",
       "               price other_features  \n",
       "count   7.450000e+02            580  \n",
       "unique           NaN             40  \n",
       "top              NaN         Loggia  \n",
       "freq             NaN             77  \n",
       "mean    6.197304e+06            NaN  \n",
       "std     2.959686e+06            NaN  \n",
       "min     1.260000e+06            NaN  \n",
       "25%     4.290000e+06            NaN  \n",
       "50%     5.450000e+06            NaN  \n",
       "75%     7.250000e+06            NaN  \n",
       "max     2.978900e+07            NaN  "
      ]
     },
     "execution_count": 38,
     "metadata": {},
     "output_type": "execute_result"
    }
   ],
   "source": [
    "brno_sales.describe(include='all')"
   ]
  },
  {
   "cell_type": "markdown",
   "id": "d5529714",
   "metadata": {},
   "source": [
    "#### Feature Engineering"
   ]
  },
  {
   "cell_type": "code",
   "execution_count": 39,
   "id": "b9e6bde4",
   "metadata": {},
   "outputs": [],
   "source": [
    "#Calculating CostPerSquaremetre\n",
    "brno_sales['CostPerSquaremetre']= brno_sales['price']/brno_sales['sizes']"
   ]
  },
  {
   "cell_type": "code",
   "execution_count": 40,
   "id": "9a182abd",
   "metadata": {},
   "outputs": [],
   "source": [
    "#rounding up to the nearest whole number\n",
    "brno_sales['CostPerSquaremetre']=brno_sales['CostPerSquaremetre'].round(0)"
   ]
  },
  {
   "cell_type": "code",
   "execution_count": 41,
   "id": "0ae5a3a2",
   "metadata": {},
   "outputs": [],
   "source": [
    "#does this apartment contain separate kitchen?\n",
    "def kitchen(x):\n",
    "    if 'kt' in  x:\n",
    "        return '0'\n",
    "    else:\n",
    "        return '1'"
   ]
  },
  {
   "cell_type": "code",
   "execution_count": 42,
   "id": "194f7be8",
   "metadata": {},
   "outputs": [],
   "source": [
    "brno_sales['Separate_kitchen']=brno_sales['types'].apply(kitchen)"
   ]
  },
  {
   "cell_type": "code",
   "execution_count": 43,
   "id": "a6856b07",
   "metadata": {},
   "outputs": [],
   "source": [
    "#defining data category\n",
    "brno_sales['data category']= 'brno_sales'"
   ]
  },
  {
   "cell_type": "code",
   "execution_count": 44,
   "id": "7d8e8226",
   "metadata": {},
   "outputs": [
    {
     "data": {
      "text/html": [
       "<div>\n",
       "<style scoped>\n",
       "    .dataframe tbody tr th:only-of-type {\n",
       "        vertical-align: middle;\n",
       "    }\n",
       "\n",
       "    .dataframe tbody tr th {\n",
       "        vertical-align: top;\n",
       "    }\n",
       "\n",
       "    .dataframe thead th {\n",
       "        text-align: right;\n",
       "    }\n",
       "</style>\n",
       "<table border=\"1\" class=\"dataframe\">\n",
       "  <thead>\n",
       "    <tr style=\"text-align: right;\">\n",
       "      <th></th>\n",
       "      <th>types</th>\n",
       "      <th>sizes</th>\n",
       "      <th>units</th>\n",
       "      <th>streets</th>\n",
       "      <th>municipal_district</th>\n",
       "      <th>neighbourhood</th>\n",
       "      <th>price</th>\n",
       "      <th>other_features</th>\n",
       "      <th>CostPerSquaremetre</th>\n",
       "      <th>Separate_kitchen</th>\n",
       "      <th>data category</th>\n",
       "    </tr>\n",
       "  </thead>\n",
       "  <tbody>\n",
       "    <tr>\n",
       "      <th>0</th>\n",
       "      <td>1+1</td>\n",
       "      <td>25</td>\n",
       "      <td>m²</td>\n",
       "      <td>Gallašova</td>\n",
       "      <td>Brno</td>\n",
       "      <td>Štýřice</td>\n",
       "      <td>2240000</td>\n",
       "      <td>State owenship</td>\n",
       "      <td>89600.0</td>\n",
       "      <td>1</td>\n",
       "      <td>brno_sales</td>\n",
       "    </tr>\n",
       "    <tr>\n",
       "      <th>1</th>\n",
       "      <td>3+1</td>\n",
       "      <td>78</td>\n",
       "      <td>m²</td>\n",
       "      <td>Zikova</td>\n",
       "      <td>Brno</td>\n",
       "      <td>Líšeň</td>\n",
       "      <td>6380000</td>\n",
       "      <td>After reconstruction</td>\n",
       "      <td>81795.0</td>\n",
       "      <td>1</td>\n",
       "      <td>brno_sales</td>\n",
       "    </tr>\n",
       "    <tr>\n",
       "      <th>2</th>\n",
       "      <td>3+1</td>\n",
       "      <td>120</td>\n",
       "      <td>m²</td>\n",
       "      <td>Solniční</td>\n",
       "      <td>Brno</td>\n",
       "      <td>Brno-město</td>\n",
       "      <td>9100000</td>\n",
       "      <td>State owenship</td>\n",
       "      <td>75833.0</td>\n",
       "      <td>1</td>\n",
       "      <td>brno_sales</td>\n",
       "    </tr>\n",
       "    <tr>\n",
       "      <th>3</th>\n",
       "      <td>2+1</td>\n",
       "      <td>64</td>\n",
       "      <td>m²</td>\n",
       "      <td>Purkyňova</td>\n",
       "      <td>Brno</td>\n",
       "      <td>Brno</td>\n",
       "      <td>4750000</td>\n",
       "      <td>None</td>\n",
       "      <td>74219.0</td>\n",
       "      <td>1</td>\n",
       "      <td>brno_sales</td>\n",
       "    </tr>\n",
       "    <tr>\n",
       "      <th>4</th>\n",
       "      <td>2+1</td>\n",
       "      <td>96</td>\n",
       "      <td>m²</td>\n",
       "      <td>Ruská</td>\n",
       "      <td>Brno</td>\n",
       "      <td>Pole</td>\n",
       "      <td>7790000</td>\n",
       "      <td>None</td>\n",
       "      <td>81146.0</td>\n",
       "      <td>1</td>\n",
       "      <td>brno_sales</td>\n",
       "    </tr>\n",
       "  </tbody>\n",
       "</table>\n",
       "</div>"
      ],
      "text/plain": [
       "  types  sizes units    streets municipal_district neighbourhood    price  \\\n",
       "0   1+1     25    m²  Gallašova               Brno       Štýřice  2240000   \n",
       "1   3+1     78    m²     Zikova               Brno         Líšeň  6380000   \n",
       "2   3+1    120    m²   Solniční               Brno    Brno-město  9100000   \n",
       "3   2+1     64    m²  Purkyňova               Brno          Brno  4750000   \n",
       "4   2+1     96    m²      Ruská               Brno          Pole  7790000   \n",
       "\n",
       "         other_features  CostPerSquaremetre Separate_kitchen data category  \n",
       "0        State owenship             89600.0                1    brno_sales  \n",
       "1  After reconstruction             81795.0                1    brno_sales  \n",
       "2        State owenship             75833.0                1    brno_sales  \n",
       "3                  None             74219.0                1    brno_sales  \n",
       "4                  None             81146.0                1    brno_sales  "
      ]
     },
     "execution_count": 44,
     "metadata": {},
     "output_type": "execute_result"
    }
   ],
   "source": [
    "brno_sales.head()"
   ]
  },
  {
   "cell_type": "code",
   "execution_count": 45,
   "id": "8ea0ce1c",
   "metadata": {},
   "outputs": [
    {
     "name": "stdout",
     "output_type": "stream",
     "text": [
      "<class 'pandas.core.frame.DataFrame'>\n",
      "Int64Index: 745 entries, 0 to 869\n",
      "Data columns (total 11 columns):\n",
      " #   Column              Non-Null Count  Dtype  \n",
      "---  ------              --------------  -----  \n",
      " 0   types               745 non-null    object \n",
      " 1   sizes               745 non-null    int64  \n",
      " 2   units               745 non-null    object \n",
      " 3   streets             745 non-null    object \n",
      " 4   municipal_district  745 non-null    object \n",
      " 5   neighbourhood       745 non-null    object \n",
      " 6   price               745 non-null    int64  \n",
      " 7   other_features      580 non-null    object \n",
      " 8   CostPerSquaremetre  745 non-null    float64\n",
      " 9   Separate_kitchen    745 non-null    object \n",
      " 10  data category       745 non-null    object \n",
      "dtypes: float64(1), int64(2), object(8)\n",
      "memory usage: 69.8+ KB\n"
     ]
    }
   ],
   "source": [
    "brno_sales.info()"
   ]
  },
  {
   "cell_type": "markdown",
   "id": "b43b8f82",
   "metadata": {},
   "source": [
    "### Extracting sales data for Prague"
   ]
  },
  {
   "cell_type": "code",
   "execution_count": null,
   "id": "c91cc982",
   "metadata": {},
   "outputs": [],
   "source": [
    "#scraping sales data for prague\n",
    "#importing url using selenium\n",
    "options = Options()\n",
    "options.add_argument('--disable-blink-features=AutomationControlled')\n",
    "driver.set_script_timeout(\"600\")\n",
    "driver = webdriver.Chrome()\n",
    "url_list = 'https://www.sreality.cz/en/search/for-sale/apartments/praha?page='\n",
    "urls=[]\n",
    "page_checking = True\n",
    "page_count = 1\n",
    "#looping through pages until the last page\n",
    "while page_checking:\n",
    "    url = url_list + str(page_count)\n",
    "    driver.get(url)\n",
    "    driver.maximize_window()\n",
    "    time.sleep(5)\n",
    "    response = driver.page_source.encode('utf-8').strip()\n",
    "    soup = BeautifulSoup(response, 'lxml')\n",
    "    \n",
    "    last_page = soup.find('p', class_=\"status-text ng-binding\")\n",
    "    \n",
    "    if last_page is not None:\n",
    "        page_checking = False\n",
    "    \n",
    "    else:\n",
    "        urls.append(url)\n",
    "        page_count = page_count+1\n",
    "driver.quit()"
   ]
  },
  {
   "cell_type": "code",
   "execution_count": 49,
   "id": "14ed3c9c",
   "metadata": {},
   "outputs": [],
   "source": [
    "#looping through each page to extract listings\n",
    "listings_sales_prague=[]\n",
    "for webpages in urls:\n",
    "    #importing url using selenium\n",
    "    driver = webdriver.Chrome()\n",
    "    driver.get(webpages)\n",
    "    time.sleep(5)\n",
    "    responses = driver.page_source.encode('utf-8').strip()\n",
    "    soup = BeautifulSoup(responses, 'lxml')\n",
    "    #listingss = soup.find_all('div')\n",
    "    li = soup.find_all('div', class_='info clear ng-scope')\n",
    "    listings_sales_prague.append(li)\n",
    "driver.quit()"
   ]
  },
  {
   "cell_type": "markdown",
   "id": "e44f679c",
   "metadata": {},
   "source": [
    "### Extracting, cleaning, and transforming required fields"
   ]
  },
  {
   "cell_type": "markdown",
   "id": "6957176e",
   "metadata": {},
   "source": [
    "#### Looping through to get individual properties/fields\n"
   ]
  },
  {
   "cell_type": "code",
   "execution_count": 50,
   "id": "0afba6af",
   "metadata": {},
   "outputs": [],
   "source": [
    "#extracting and cleaning  apartment types \n",
    "types_prague_sales=[]\n",
    "for apartments in listings_sales_prague:\n",
    "    for listing in apartments:\n",
    "        apt_type=listing.find('span',class_=\"name ng-binding\").text.split('apartment')[1][:5]\n",
    "        types_prague_sales.append(apt_type)"
   ]
  },
  {
   "cell_type": "code",
   "execution_count": 51,
   "id": "61e77923",
   "metadata": {},
   "outputs": [],
   "source": [
    "#extracting and cleaning apartment sizes \n",
    "sizes_prague_sales=[]\n",
    "for apartments in listings_sales_prague:\n",
    "    for listing in apartments:   \n",
    "        apt_size=listing.find('span',class_=\"name ng-binding\").text.replace('+1',',').replace('kt',',').split(',')\\\n",
    "        [-1].split('m²')[0].split('unusual')[-1].split('plus')[-1]\n",
    "        sizes_prague_sales.append(apt_size)        "
   ]
  },
  {
   "cell_type": "code",
   "execution_count": 52,
   "id": "c90f3675",
   "metadata": {},
   "outputs": [],
   "source": [
    "#extracting and cleaning units \n",
    "units_prague_sales=[]\n",
    "for apartments in listings_sales_prague:\n",
    "    for listing in apartments:   \n",
    "        apt_units=listing.find('span',class_=\"name ng-binding\").text.replace('+1',',').replace('kt',',')\\\n",
    "        .rpartition('m²')[1]\n",
    "        [-1][3:]\n",
    "        units_prague_sales.append(apt_units)"
   ]
  },
  {
   "cell_type": "code",
   "execution_count": 53,
   "id": "ac5cbba2",
   "metadata": {},
   "outputs": [],
   "source": [
    "#extracting and cleaning streets\n",
    "streets_prague_sales=[]\n",
    "for apartments in listings_sales_prague:\n",
    "    for listing in apartments:    \n",
    "        apt_street=listing.find('span', class_=\"locality ng-binding\").text.split(',',1)[0]\n",
    "        streets_prague_sales.append(apt_street)"
   ]
  },
  {
   "cell_type": "code",
   "execution_count": 54,
   "id": "1c6763c5",
   "metadata": {},
   "outputs": [],
   "source": [
    "#extracting and cleaning municipal_district\n",
    "municipal_district_prague_sales=[]\n",
    "for apartments in listings_sales_prague:\n",
    "    for listing in apartments:\n",
    "        apt_municipal_district=listing.find('span', class_=\"locality ng-binding\").text.split(',',1)[-1].split('-')[0]\n",
    "        municipal_district_prague_sales.append(apt_municipal_district.strip())\n",
    "        "
   ]
  },
  {
   "cell_type": "code",
   "execution_count": 55,
   "id": "14fb6f01",
   "metadata": {},
   "outputs": [],
   "source": [
    "#extracting and cleaning features\n",
    "other_features_prague_sales=[]\n",
    "for apartments in listings_sales_prague:\n",
    "    for listing in apartments:\n",
    "        features=[]\n",
    "        feature=listing.find('span', class_=\"label ng-binding ng-scope\")\n",
    "        features.append(feature)\n",
    "        for feat in features:\n",
    "            if feat is not None:\n",
    "                otherfeatures = feat.text.replace('\\n\\t\\t\\t\\t\\t','')\n",
    "            else:\n",
    "                otherfeatures = None\n",
    "            other_features_prague_sales.append(otherfeatures)"
   ]
  },
  {
   "cell_type": "code",
   "execution_count": 56,
   "id": "d49348ae",
   "metadata": {},
   "outputs": [],
   "source": [
    "#extracting and cleaning neighbourhood\n",
    "neighbourhood_prague_sales=[]\n",
    "for apartments in listings_sales_prague:\n",
    "    for listing in apartments:\n",
    "        apt_neighbourhood=listing.find('span', class_=\"locality ng-binding\").text.split(' ')[-1]\n",
    "        neighbourhood_prague_sales.append(apt_neighbourhood)"
   ]
  },
  {
   "cell_type": "code",
   "execution_count": 57,
   "id": "8094f2af",
   "metadata": {
    "scrolled": true
   },
   "outputs": [],
   "source": [
    "#extracting and cleaning price\n",
    "price_prague_sales=[]\n",
    "for apartments in listings_sales_prague:\n",
    "    for listing in apartments:\n",
    "        apt_price=listing.find('span', class_=\"norm-price ng-binding\").text.split('per')[0].replace('CZK','')\n",
    "        price_prague_sales.append(apt_price)\n"
   ]
  },
  {
   "cell_type": "code",
   "execution_count": 58,
   "id": "010c744e",
   "metadata": {
    "scrolled": true
   },
   "outputs": [
    {
     "data": {
      "text/html": [
       "<div>\n",
       "<style scoped>\n",
       "    .dataframe tbody tr th:only-of-type {\n",
       "        vertical-align: middle;\n",
       "    }\n",
       "\n",
       "    .dataframe tbody tr th {\n",
       "        vertical-align: top;\n",
       "    }\n",
       "\n",
       "    .dataframe thead th {\n",
       "        text-align: right;\n",
       "    }\n",
       "</style>\n",
       "<table border=\"1\" class=\"dataframe\">\n",
       "  <thead>\n",
       "    <tr style=\"text-align: right;\">\n",
       "      <th></th>\n",
       "      <th>types</th>\n",
       "      <th>sizes</th>\n",
       "      <th>units</th>\n",
       "      <th>streets</th>\n",
       "      <th>municipal_district</th>\n",
       "      <th>neighbourhood</th>\n",
       "      <th>price</th>\n",
       "      <th>other_features</th>\n",
       "    </tr>\n",
       "  </thead>\n",
       "  <tbody>\n",
       "    <tr>\n",
       "      <th>0</th>\n",
       "      <td>2+1</td>\n",
       "      <td>85</td>\n",
       "      <td>m²</td>\n",
       "      <td>Janáčkovo nábřeží</td>\n",
       "      <td>Praha 5</td>\n",
       "      <td>Smíchov</td>\n",
       "      <td>13 900 000</td>\n",
       "      <td>Furnished</td>\n",
       "    </tr>\n",
       "    <tr>\n",
       "      <th>1</th>\n",
       "      <td>3+kt</td>\n",
       "      <td>84</td>\n",
       "      <td>m²</td>\n",
       "      <td>Pod Harfou</td>\n",
       "      <td>Praha 9</td>\n",
       "      <td>Vysočany</td>\n",
       "      <td>11 500 000</td>\n",
       "      <td>Parking</td>\n",
       "    </tr>\n",
       "    <tr>\n",
       "      <th>2</th>\n",
       "      <td>3+kt</td>\n",
       "      <td>92</td>\n",
       "      <td>m²</td>\n",
       "      <td>Fikerova</td>\n",
       "      <td>Praha 4</td>\n",
       "      <td>Modřany</td>\n",
       "      <td>11 850 000</td>\n",
       "      <td>New buildings</td>\n",
       "    </tr>\n",
       "    <tr>\n",
       "      <th>3</th>\n",
       "      <td>2+1</td>\n",
       "      <td>46</td>\n",
       "      <td>m²</td>\n",
       "      <td>Frýdlantská</td>\n",
       "      <td>Praha 8</td>\n",
       "      <td>Kobylisy</td>\n",
       "      <td>5 299 000</td>\n",
       "      <td>Loggia</td>\n",
       "    </tr>\n",
       "    <tr>\n",
       "      <th>4</th>\n",
       "      <td>4+kt</td>\n",
       "      <td>118</td>\n",
       "      <td>m²</td>\n",
       "      <td>Moravská</td>\n",
       "      <td>Praha 2</td>\n",
       "      <td>Vinohrady</td>\n",
       "      <td>23 944 513</td>\n",
       "      <td>Not furnished</td>\n",
       "    </tr>\n",
       "    <tr>\n",
       "      <th>...</th>\n",
       "      <td>...</td>\n",
       "      <td>...</td>\n",
       "      <td>...</td>\n",
       "      <td>...</td>\n",
       "      <td>...</td>\n",
       "      <td>...</td>\n",
       "      <td>...</td>\n",
       "      <td>...</td>\n",
       "    </tr>\n",
       "    <tr>\n",
       "      <th>2836</th>\n",
       "      <td>2+1</td>\n",
       "      <td>66</td>\n",
       "      <td>m²</td>\n",
       "      <td>Máchova</td>\n",
       "      <td>Praha 2</td>\n",
       "      <td>Vinohrady</td>\n",
       "      <td>8 900 000</td>\n",
       "      <td>None</td>\n",
       "    </tr>\n",
       "    <tr>\n",
       "      <th>2837</th>\n",
       "      <td>3+kt</td>\n",
       "      <td>70</td>\n",
       "      <td>m²</td>\n",
       "      <td>Kateřinské náměstí</td>\n",
       "      <td>Praha</td>\n",
       "      <td>Průhonic</td>\n",
       "      <td>8 599 500</td>\n",
       "      <td>None</td>\n",
       "    </tr>\n",
       "    <tr>\n",
       "      <th>2838</th>\n",
       "      <td>3+kt</td>\n",
       "      <td>70</td>\n",
       "      <td>m²</td>\n",
       "      <td>Praha 4 - Újezd u Průhonic</td>\n",
       "      <td>Praha 4</td>\n",
       "      <td>Průhonic</td>\n",
       "      <td>7 999 865</td>\n",
       "      <td>None</td>\n",
       "    </tr>\n",
       "    <tr>\n",
       "      <th>2839</th>\n",
       "      <td>4+kt</td>\n",
       "      <td>110</td>\n",
       "      <td>m²</td>\n",
       "      <td>Nad závodištěm</td>\n",
       "      <td>Praha 5</td>\n",
       "      <td>Chuchle</td>\n",
       "      <td>14 216 000</td>\n",
       "      <td>None</td>\n",
       "    </tr>\n",
       "    <tr>\n",
       "      <th>2840</th>\n",
       "      <td>5+kt</td>\n",
       "      <td>158</td>\n",
       "      <td>m²</td>\n",
       "      <td>Archangelská</td>\n",
       "      <td>Praha 10</td>\n",
       "      <td>Vršovice</td>\n",
       "      <td>29 900 000</td>\n",
       "      <td>New buildings</td>\n",
       "    </tr>\n",
       "  </tbody>\n",
       "</table>\n",
       "<p>2841 rows × 8 columns</p>\n",
       "</div>"
      ],
      "text/plain": [
       "      types  sizes units                     streets municipal_district  \\\n",
       "0      2+1     85     m²           Janáčkovo nábřeží            Praha 5   \n",
       "1      3+kt    84     m²                  Pod Harfou            Praha 9   \n",
       "2      3+kt    92     m²                    Fikerova            Praha 4   \n",
       "3      2+1     46     m²                 Frýdlantská            Praha 8   \n",
       "4      4+kt   118     m²                    Moravská            Praha 2   \n",
       "...     ...    ...   ...                         ...                ...   \n",
       "2836   2+1     66     m²                     Máchova            Praha 2   \n",
       "2837   3+kt    70     m²          Kateřinské náměstí              Praha   \n",
       "2838   3+kt    70     m²  Praha 4 - Újezd u Průhonic            Praha 4   \n",
       "2839   4+kt   110     m²              Nad závodištěm            Praha 5   \n",
       "2840   5+kt   158     m²                Archangelská           Praha 10   \n",
       "\n",
       "     neighbourhood        price  other_features  \n",
       "0          Smíchov  13 900 000       Furnished   \n",
       "1         Vysočany  11 500 000         Parking   \n",
       "2          Modřany  11 850 000   New buildings   \n",
       "3         Kobylisy   5 299 000          Loggia   \n",
       "4        Vinohrady  23 944 513   Not furnished   \n",
       "...            ...          ...             ...  \n",
       "2836     Vinohrady   8 900 000             None  \n",
       "2837      Průhonic   8 599 500             None  \n",
       "2838      Průhonic   7 999 865             None  \n",
       "2839       Chuchle  14 216 000             None  \n",
       "2840      Vršovice  29 900 000   New buildings   \n",
       "\n",
       "[2841 rows x 8 columns]"
      ]
     },
     "execution_count": 58,
     "metadata": {},
     "output_type": "execute_result"
    }
   ],
   "source": [
    "prague_sales=pd.DataFrame({'types': types_prague_sales,'sizes':sizes_prague_sales,'units':units_prague_sales\\\n",
    "                           ,'streets':streets_prague_sales,'municipal_district':municipal_district_prague_sales,\\\n",
    "                           'neighbourhood':neighbourhood_prague_sales,'price':price_prague_sales,\\\n",
    "                           'other_features':other_features_prague_sales})\n",
    "prague_sales"
   ]
  },
  {
   "cell_type": "markdown",
   "id": "157c50b9",
   "metadata": {},
   "source": [
    "#### Performing EDA and Dropping outlier rows\n"
   ]
  },
  {
   "cell_type": "code",
   "execution_count": 59,
   "id": "515bc9bf",
   "metadata": {},
   "outputs": [
    {
     "name": "stdout",
     "output_type": "stream",
     "text": [
      " 2+kt    849\n",
      " 3+kt    597\n",
      " 1+kt    371\n",
      " 3+1     338\n",
      " 2+1     243\n",
      " 4+kt    222\n",
      " 1+1      79\n",
      " 4+1      68\n",
      " 5+kt     32\n",
      " 5+1      16\n",
      " 6 ro     15\n",
      " unus     11\n"
     ]
    }
   ],
   "source": [
    "print(prague_sales['types'].value_counts().to_string())"
   ]
  },
  {
   "cell_type": "code",
   "execution_count": 174,
   "id": "7f9754f9",
   "metadata": {},
   "outputs": [
    {
     "data": {
      "text/plain": [
       "49    64\n",
       "52    59\n",
       "53    58\n",
       "50    56\n",
       "70    53\n",
       "Name: sizes, dtype: int64"
      ]
     },
     "execution_count": 174,
     "metadata": {},
     "output_type": "execute_result"
    }
   ],
   "source": [
    "prague_sales['sizes'].value_counts().head()"
   ]
  },
  {
   "cell_type": "code",
   "execution_count": 175,
   "id": "d26ab8bf",
   "metadata": {
    "scrolled": true
   },
   "outputs": [
    {
     "data": {
      "text/plain": [
       "Praha 5     447\n",
       "Praha 10    440\n",
       "Praha 4     420\n",
       "Praha 9     377\n",
       "Praha 8     199\n",
       "Name: municipal_district, dtype: int64"
      ]
     },
     "execution_count": 175,
     "metadata": {},
     "output_type": "execute_result"
    }
   ],
   "source": [
    "prague_sales['municipal_district'].value_counts().head()"
   ]
  },
  {
   "cell_type": "code",
   "execution_count": 177,
   "id": "424c405d",
   "metadata": {},
   "outputs": [
    {
     "data": {
      "text/plain": [
       "K Jezeru    93\n",
       "Zimova      39\n",
       "Plzeňská    22\n",
       "Armády      18\n",
       "Koněvova    16\n",
       "Name: streets, dtype: int64"
      ]
     },
     "execution_count": 177,
     "metadata": {},
     "output_type": "execute_result"
    }
   ],
   "source": [
    "prague_sales['streets'].value_counts().head()"
   ]
  },
  {
   "cell_type": "code",
   "execution_count": 176,
   "id": "244bcfc8",
   "metadata": {
    "scrolled": true
   },
   "outputs": [
    {
     "data": {
      "text/plain": [
       "Žižkov      144\n",
       "Hostivař    126\n",
       "Stodůlky    121\n",
       "Smíchov     110\n",
       "Město       101\n",
       "Name: neighbourhood, dtype: int64"
      ]
     },
     "execution_count": 176,
     "metadata": {},
     "output_type": "execute_result"
    }
   ],
   "source": [
    "prague_sales['neighbourhood'].value_counts().head()"
   ]
  },
  {
   "cell_type": "code",
   "execution_count": 64,
   "id": "c5b7ee15",
   "metadata": {},
   "outputs": [
    {
     "data": {
      "text/plain": [
       "m²    2841\n",
       "Name: units, dtype: int64"
      ]
     },
     "execution_count": 64,
     "metadata": {},
     "output_type": "execute_result"
    }
   ],
   "source": [
    "prague_sales['units'].value_counts()"
   ]
  },
  {
   "cell_type": "code",
   "execution_count": 65,
   "id": "381a7958",
   "metadata": {},
   "outputs": [],
   "source": [
    "prague_sales.drop(prague_sales[prague_sales['price'].str.contains('Information')].index, inplace=True)"
   ]
  },
  {
   "cell_type": "code",
   "execution_count": 66,
   "id": "8a45809e",
   "metadata": {},
   "outputs": [],
   "source": [
    "prague_sales['types']=prague_sales['types'].str.replace(u'\\xa0',u' ').str.strip().str.replace(' ','')"
   ]
  },
  {
   "cell_type": "code",
   "execution_count": 67,
   "id": "ca7e5407",
   "metadata": {},
   "outputs": [],
   "source": [
    "prague_sales.drop(prague_sales[prague_sales['streets']=='Praha'].index, inplace=True)"
   ]
  },
  {
   "cell_type": "markdown",
   "id": "5b8fde3d",
   "metadata": {},
   "source": [
    "#### Checking and converting types"
   ]
  },
  {
   "cell_type": "code",
   "execution_count": 68,
   "id": "b35f5657",
   "metadata": {},
   "outputs": [
    {
     "name": "stdout",
     "output_type": "stream",
     "text": [
      "types                 object\n",
      "sizes                 object\n",
      "units                 object\n",
      "streets               object\n",
      "municipal_district    object\n",
      "neighbourhood         object\n",
      "price                 object\n",
      "other_features        object\n",
      "dtype: object\n"
     ]
    }
   ],
   "source": [
    "#checking types\n",
    "print(prague_sales.dtypes)"
   ]
  },
  {
   "cell_type": "code",
   "execution_count": 69,
   "id": "1dd343c5",
   "metadata": {},
   "outputs": [],
   "source": [
    "#converting sizes to int\n",
    "prague_sales['sizes']=prague_sales['sizes'].astype(int)"
   ]
  },
  {
   "cell_type": "code",
   "execution_count": 70,
   "id": "6b4806af",
   "metadata": {},
   "outputs": [],
   "source": [
    "#converting prices to int\n",
    "#prices contains xa0 (unicode character)\n",
    "prague_sales['price']=prague_sales['price'].str.replace(u'\\xa0',u' ').str.strip().str.replace(' ','')\n",
    "prague_sales['price']=pd.to_numeric(prague_sales['price'])"
   ]
  },
  {
   "cell_type": "code",
   "execution_count": 71,
   "id": "a1cf9b9f",
   "metadata": {},
   "outputs": [
    {
     "data": {
      "text/html": [
       "<div>\n",
       "<style scoped>\n",
       "    .dataframe tbody tr th:only-of-type {\n",
       "        vertical-align: middle;\n",
       "    }\n",
       "\n",
       "    .dataframe tbody tr th {\n",
       "        vertical-align: top;\n",
       "    }\n",
       "\n",
       "    .dataframe thead th {\n",
       "        text-align: right;\n",
       "    }\n",
       "</style>\n",
       "<table border=\"1\" class=\"dataframe\">\n",
       "  <thead>\n",
       "    <tr style=\"text-align: right;\">\n",
       "      <th></th>\n",
       "      <th>types</th>\n",
       "      <th>sizes</th>\n",
       "      <th>units</th>\n",
       "      <th>streets</th>\n",
       "      <th>municipal_district</th>\n",
       "      <th>neighbourhood</th>\n",
       "      <th>price</th>\n",
       "      <th>other_features</th>\n",
       "    </tr>\n",
       "  </thead>\n",
       "  <tbody>\n",
       "    <tr>\n",
       "      <th>0</th>\n",
       "      <td>2+1</td>\n",
       "      <td>85</td>\n",
       "      <td>m²</td>\n",
       "      <td>Janáčkovo nábřeží</td>\n",
       "      <td>Praha 5</td>\n",
       "      <td>Smíchov</td>\n",
       "      <td>13900000</td>\n",
       "      <td>Furnished</td>\n",
       "    </tr>\n",
       "    <tr>\n",
       "      <th>1</th>\n",
       "      <td>3+kt</td>\n",
       "      <td>84</td>\n",
       "      <td>m²</td>\n",
       "      <td>Pod Harfou</td>\n",
       "      <td>Praha 9</td>\n",
       "      <td>Vysočany</td>\n",
       "      <td>11500000</td>\n",
       "      <td>Parking</td>\n",
       "    </tr>\n",
       "    <tr>\n",
       "      <th>2</th>\n",
       "      <td>3+kt</td>\n",
       "      <td>92</td>\n",
       "      <td>m²</td>\n",
       "      <td>Fikerova</td>\n",
       "      <td>Praha 4</td>\n",
       "      <td>Modřany</td>\n",
       "      <td>11850000</td>\n",
       "      <td>New buildings</td>\n",
       "    </tr>\n",
       "    <tr>\n",
       "      <th>3</th>\n",
       "      <td>2+1</td>\n",
       "      <td>46</td>\n",
       "      <td>m²</td>\n",
       "      <td>Frýdlantská</td>\n",
       "      <td>Praha 8</td>\n",
       "      <td>Kobylisy</td>\n",
       "      <td>5299000</td>\n",
       "      <td>Loggia</td>\n",
       "    </tr>\n",
       "    <tr>\n",
       "      <th>4</th>\n",
       "      <td>4+kt</td>\n",
       "      <td>118</td>\n",
       "      <td>m²</td>\n",
       "      <td>Moravská</td>\n",
       "      <td>Praha 2</td>\n",
       "      <td>Vinohrady</td>\n",
       "      <td>23944513</td>\n",
       "      <td>Not furnished</td>\n",
       "    </tr>\n",
       "  </tbody>\n",
       "</table>\n",
       "</div>"
      ],
      "text/plain": [
       "  types  sizes units            streets municipal_district neighbourhood  \\\n",
       "0   2+1     85    m²  Janáčkovo nábřeží            Praha 5       Smíchov   \n",
       "1  3+kt     84    m²         Pod Harfou            Praha 9      Vysočany   \n",
       "2  3+kt     92    m²           Fikerova            Praha 4       Modřany   \n",
       "3   2+1     46    m²        Frýdlantská            Praha 8      Kobylisy   \n",
       "4  4+kt    118    m²           Moravská            Praha 2     Vinohrady   \n",
       "\n",
       "      price  other_features  \n",
       "0  13900000      Furnished   \n",
       "1  11500000        Parking   \n",
       "2  11850000  New buildings   \n",
       "3   5299000         Loggia   \n",
       "4  23944513  Not furnished   "
      ]
     },
     "execution_count": 71,
     "metadata": {},
     "output_type": "execute_result"
    }
   ],
   "source": [
    "prague_sales.head()"
   ]
  },
  {
   "cell_type": "code",
   "execution_count": 72,
   "id": "29712aff",
   "metadata": {},
   "outputs": [
    {
     "name": "stdout",
     "output_type": "stream",
     "text": [
      "<class 'pandas.core.frame.DataFrame'>\n",
      "Int64Index: 2714 entries, 0 to 2840\n",
      "Data columns (total 8 columns):\n",
      " #   Column              Non-Null Count  Dtype \n",
      "---  ------              --------------  ----- \n",
      " 0   types               2714 non-null   object\n",
      " 1   sizes               2714 non-null   int64 \n",
      " 2   units               2714 non-null   object\n",
      " 3   streets             2714 non-null   object\n",
      " 4   municipal_district  2714 non-null   object\n",
      " 5   neighbourhood       2714 non-null   object\n",
      " 6   price               2714 non-null   int64 \n",
      " 7   other_features      2233 non-null   object\n",
      "dtypes: int64(2), object(6)\n",
      "memory usage: 190.8+ KB\n"
     ]
    }
   ],
   "source": [
    "prague_sales.info()"
   ]
  },
  {
   "cell_type": "code",
   "execution_count": 73,
   "id": "c9f7484b",
   "metadata": {
    "scrolled": true
   },
   "outputs": [
    {
     "data": {
      "text/html": [
       "<div>\n",
       "<style scoped>\n",
       "    .dataframe tbody tr th:only-of-type {\n",
       "        vertical-align: middle;\n",
       "    }\n",
       "\n",
       "    .dataframe tbody tr th {\n",
       "        vertical-align: top;\n",
       "    }\n",
       "\n",
       "    .dataframe thead th {\n",
       "        text-align: right;\n",
       "    }\n",
       "</style>\n",
       "<table border=\"1\" class=\"dataframe\">\n",
       "  <thead>\n",
       "    <tr style=\"text-align: right;\">\n",
       "      <th></th>\n",
       "      <th>types</th>\n",
       "      <th>sizes</th>\n",
       "      <th>units</th>\n",
       "      <th>streets</th>\n",
       "      <th>municipal_district</th>\n",
       "      <th>neighbourhood</th>\n",
       "      <th>price</th>\n",
       "      <th>other_features</th>\n",
       "    </tr>\n",
       "  </thead>\n",
       "  <tbody>\n",
       "    <tr>\n",
       "      <th>count</th>\n",
       "      <td>2714</td>\n",
       "      <td>2714.000000</td>\n",
       "      <td>2714</td>\n",
       "      <td>2714</td>\n",
       "      <td>2714</td>\n",
       "      <td>2714</td>\n",
       "      <td>2.714000e+03</td>\n",
       "      <td>2233</td>\n",
       "    </tr>\n",
       "    <tr>\n",
       "      <th>unique</th>\n",
       "      <td>12</td>\n",
       "      <td>NaN</td>\n",
       "      <td>1</td>\n",
       "      <td>1244</td>\n",
       "      <td>11</td>\n",
       "      <td>104</td>\n",
       "      <td>NaN</td>\n",
       "      <td>66</td>\n",
       "    </tr>\n",
       "    <tr>\n",
       "      <th>top</th>\n",
       "      <td>2+kt</td>\n",
       "      <td>NaN</td>\n",
       "      <td>m²</td>\n",
       "      <td>K Jezeru</td>\n",
       "      <td>Praha 5</td>\n",
       "      <td>Žižkov</td>\n",
       "      <td>NaN</td>\n",
       "      <td>After reconstruction</td>\n",
       "    </tr>\n",
       "    <tr>\n",
       "      <th>freq</th>\n",
       "      <td>812</td>\n",
       "      <td>NaN</td>\n",
       "      <td>2714</td>\n",
       "      <td>93</td>\n",
       "      <td>447</td>\n",
       "      <td>144</td>\n",
       "      <td>NaN</td>\n",
       "      <td>248</td>\n",
       "    </tr>\n",
       "    <tr>\n",
       "      <th>mean</th>\n",
       "      <td>NaN</td>\n",
       "      <td>69.436625</td>\n",
       "      <td>NaN</td>\n",
       "      <td>NaN</td>\n",
       "      <td>NaN</td>\n",
       "      <td>NaN</td>\n",
       "      <td>8.499901e+06</td>\n",
       "      <td>NaN</td>\n",
       "    </tr>\n",
       "    <tr>\n",
       "      <th>std</th>\n",
       "      <td>NaN</td>\n",
       "      <td>33.612926</td>\n",
       "      <td>NaN</td>\n",
       "      <td>NaN</td>\n",
       "      <td>NaN</td>\n",
       "      <td>NaN</td>\n",
       "      <td>4.808253e+06</td>\n",
       "      <td>NaN</td>\n",
       "    </tr>\n",
       "    <tr>\n",
       "      <th>min</th>\n",
       "      <td>NaN</td>\n",
       "      <td>11.000000</td>\n",
       "      <td>NaN</td>\n",
       "      <td>NaN</td>\n",
       "      <td>NaN</td>\n",
       "      <td>NaN</td>\n",
       "      <td>2.280000e+05</td>\n",
       "      <td>NaN</td>\n",
       "    </tr>\n",
       "    <tr>\n",
       "      <th>25%</th>\n",
       "      <td>NaN</td>\n",
       "      <td>48.000000</td>\n",
       "      <td>NaN</td>\n",
       "      <td>NaN</td>\n",
       "      <td>NaN</td>\n",
       "      <td>NaN</td>\n",
       "      <td>5.490000e+06</td>\n",
       "      <td>NaN</td>\n",
       "    </tr>\n",
       "    <tr>\n",
       "      <th>50%</th>\n",
       "      <td>NaN</td>\n",
       "      <td>63.000000</td>\n",
       "      <td>NaN</td>\n",
       "      <td>NaN</td>\n",
       "      <td>NaN</td>\n",
       "      <td>NaN</td>\n",
       "      <td>6.995000e+06</td>\n",
       "      <td>NaN</td>\n",
       "    </tr>\n",
       "    <tr>\n",
       "      <th>75%</th>\n",
       "      <td>NaN</td>\n",
       "      <td>82.000000</td>\n",
       "      <td>NaN</td>\n",
       "      <td>NaN</td>\n",
       "      <td>NaN</td>\n",
       "      <td>NaN</td>\n",
       "      <td>9.993538e+06</td>\n",
       "      <td>NaN</td>\n",
       "    </tr>\n",
       "    <tr>\n",
       "      <th>max</th>\n",
       "      <td>NaN</td>\n",
       "      <td>334.000000</td>\n",
       "      <td>NaN</td>\n",
       "      <td>NaN</td>\n",
       "      <td>NaN</td>\n",
       "      <td>NaN</td>\n",
       "      <td>4.690000e+07</td>\n",
       "      <td>NaN</td>\n",
       "    </tr>\n",
       "  </tbody>\n",
       "</table>\n",
       "</div>"
      ],
      "text/plain": [
       "       types        sizes units   streets municipal_district neighbourhood  \\\n",
       "count   2714  2714.000000  2714      2714               2714          2714   \n",
       "unique    12          NaN     1      1244                 11           104   \n",
       "top     2+kt          NaN    m²  K Jezeru            Praha 5        Žižkov   \n",
       "freq     812          NaN  2714        93                447           144   \n",
       "mean     NaN    69.436625   NaN       NaN                NaN           NaN   \n",
       "std      NaN    33.612926   NaN       NaN                NaN           NaN   \n",
       "min      NaN    11.000000   NaN       NaN                NaN           NaN   \n",
       "25%      NaN    48.000000   NaN       NaN                NaN           NaN   \n",
       "50%      NaN    63.000000   NaN       NaN                NaN           NaN   \n",
       "75%      NaN    82.000000   NaN       NaN                NaN           NaN   \n",
       "max      NaN   334.000000   NaN       NaN                NaN           NaN   \n",
       "\n",
       "               price         other_features  \n",
       "count   2.714000e+03                   2233  \n",
       "unique           NaN                     66  \n",
       "top              NaN  After reconstruction   \n",
       "freq             NaN                    248  \n",
       "mean    8.499901e+06                    NaN  \n",
       "std     4.808253e+06                    NaN  \n",
       "min     2.280000e+05                    NaN  \n",
       "25%     5.490000e+06                    NaN  \n",
       "50%     6.995000e+06                    NaN  \n",
       "75%     9.993538e+06                    NaN  \n",
       "max     4.690000e+07                    NaN  "
      ]
     },
     "execution_count": 73,
     "metadata": {},
     "output_type": "execute_result"
    }
   ],
   "source": [
    "prague_sales.describe(include='all')"
   ]
  },
  {
   "cell_type": "markdown",
   "id": "6d8d37b8",
   "metadata": {},
   "source": [
    "#### Feature Engineering"
   ]
  },
  {
   "cell_type": "code",
   "execution_count": 74,
   "id": "3c8ed3e5",
   "metadata": {},
   "outputs": [],
   "source": [
    "#Calculating CostPerSquaremetre\n",
    "prague_sales['CostPerSquaremetre']=prague_sales['price']/prague_sales['sizes']"
   ]
  },
  {
   "cell_type": "code",
   "execution_count": 75,
   "id": "ac937cfb",
   "metadata": {},
   "outputs": [],
   "source": [
    "prague_sales['CostPerSquaremetre']=prague_sales['CostPerSquaremetre'].round(0)"
   ]
  },
  {
   "cell_type": "code",
   "execution_count": 76,
   "id": "9dd94ed3",
   "metadata": {},
   "outputs": [],
   "source": [
    "#does this apartment contain separate kitchen?\n",
    "def kitchen(x):\n",
    "    if 'kt' in  x:\n",
    "        return '0'\n",
    "    else:\n",
    "        return '1'"
   ]
  },
  {
   "cell_type": "code",
   "execution_count": 77,
   "id": "de6abdae",
   "metadata": {},
   "outputs": [],
   "source": [
    "#does this apartment contain separate kitchen?\n",
    "prague_sales['Separate_kitchen']=prague_sales['types'].apply(kitchen)"
   ]
  },
  {
   "cell_type": "code",
   "execution_count": 78,
   "id": "b9cd6b1c",
   "metadata": {},
   "outputs": [],
   "source": [
    "#defining data category\n",
    "prague_sales['data category']= 'prague_sales'"
   ]
  },
  {
   "cell_type": "code",
   "execution_count": 79,
   "id": "7d949e46",
   "metadata": {},
   "outputs": [
    {
     "data": {
      "text/html": [
       "<div>\n",
       "<style scoped>\n",
       "    .dataframe tbody tr th:only-of-type {\n",
       "        vertical-align: middle;\n",
       "    }\n",
       "\n",
       "    .dataframe tbody tr th {\n",
       "        vertical-align: top;\n",
       "    }\n",
       "\n",
       "    .dataframe thead th {\n",
       "        text-align: right;\n",
       "    }\n",
       "</style>\n",
       "<table border=\"1\" class=\"dataframe\">\n",
       "  <thead>\n",
       "    <tr style=\"text-align: right;\">\n",
       "      <th></th>\n",
       "      <th>types</th>\n",
       "      <th>sizes</th>\n",
       "      <th>units</th>\n",
       "      <th>streets</th>\n",
       "      <th>municipal_district</th>\n",
       "      <th>neighbourhood</th>\n",
       "      <th>price</th>\n",
       "      <th>other_features</th>\n",
       "      <th>CostPerSquaremetre</th>\n",
       "      <th>Separate_kitchen</th>\n",
       "      <th>data category</th>\n",
       "    </tr>\n",
       "  </thead>\n",
       "  <tbody>\n",
       "    <tr>\n",
       "      <th>0</th>\n",
       "      <td>2+1</td>\n",
       "      <td>85</td>\n",
       "      <td>m²</td>\n",
       "      <td>Janáčkovo nábřeží</td>\n",
       "      <td>Praha 5</td>\n",
       "      <td>Smíchov</td>\n",
       "      <td>13900000</td>\n",
       "      <td>Furnished</td>\n",
       "      <td>163529.0</td>\n",
       "      <td>1</td>\n",
       "      <td>prague_sales</td>\n",
       "    </tr>\n",
       "    <tr>\n",
       "      <th>1</th>\n",
       "      <td>3+kt</td>\n",
       "      <td>84</td>\n",
       "      <td>m²</td>\n",
       "      <td>Pod Harfou</td>\n",
       "      <td>Praha 9</td>\n",
       "      <td>Vysočany</td>\n",
       "      <td>11500000</td>\n",
       "      <td>Parking</td>\n",
       "      <td>136905.0</td>\n",
       "      <td>0</td>\n",
       "      <td>prague_sales</td>\n",
       "    </tr>\n",
       "    <tr>\n",
       "      <th>2</th>\n",
       "      <td>3+kt</td>\n",
       "      <td>92</td>\n",
       "      <td>m²</td>\n",
       "      <td>Fikerova</td>\n",
       "      <td>Praha 4</td>\n",
       "      <td>Modřany</td>\n",
       "      <td>11850000</td>\n",
       "      <td>New buildings</td>\n",
       "      <td>128804.0</td>\n",
       "      <td>0</td>\n",
       "      <td>prague_sales</td>\n",
       "    </tr>\n",
       "    <tr>\n",
       "      <th>3</th>\n",
       "      <td>2+1</td>\n",
       "      <td>46</td>\n",
       "      <td>m²</td>\n",
       "      <td>Frýdlantská</td>\n",
       "      <td>Praha 8</td>\n",
       "      <td>Kobylisy</td>\n",
       "      <td>5299000</td>\n",
       "      <td>Loggia</td>\n",
       "      <td>115196.0</td>\n",
       "      <td>1</td>\n",
       "      <td>prague_sales</td>\n",
       "    </tr>\n",
       "    <tr>\n",
       "      <th>4</th>\n",
       "      <td>4+kt</td>\n",
       "      <td>118</td>\n",
       "      <td>m²</td>\n",
       "      <td>Moravská</td>\n",
       "      <td>Praha 2</td>\n",
       "      <td>Vinohrady</td>\n",
       "      <td>23944513</td>\n",
       "      <td>Not furnished</td>\n",
       "      <td>202920.0</td>\n",
       "      <td>0</td>\n",
       "      <td>prague_sales</td>\n",
       "    </tr>\n",
       "  </tbody>\n",
       "</table>\n",
       "</div>"
      ],
      "text/plain": [
       "  types  sizes units            streets municipal_district neighbourhood  \\\n",
       "0   2+1     85    m²  Janáčkovo nábřeží            Praha 5       Smíchov   \n",
       "1  3+kt     84    m²         Pod Harfou            Praha 9      Vysočany   \n",
       "2  3+kt     92    m²           Fikerova            Praha 4       Modřany   \n",
       "3   2+1     46    m²        Frýdlantská            Praha 8      Kobylisy   \n",
       "4  4+kt    118    m²           Moravská            Praha 2     Vinohrady   \n",
       "\n",
       "      price  other_features  CostPerSquaremetre Separate_kitchen data category  \n",
       "0  13900000      Furnished             163529.0                1  prague_sales  \n",
       "1  11500000        Parking             136905.0                0  prague_sales  \n",
       "2  11850000  New buildings             128804.0                0  prague_sales  \n",
       "3   5299000         Loggia             115196.0                1  prague_sales  \n",
       "4  23944513  Not furnished             202920.0                0  prague_sales  "
      ]
     },
     "execution_count": 79,
     "metadata": {},
     "output_type": "execute_result"
    }
   ],
   "source": [
    "prague_sales.head()"
   ]
  },
  {
   "cell_type": "markdown",
   "id": "8a470ba8",
   "metadata": {},
   "source": [
    "### Extracting rent data for Brno"
   ]
  },
  {
   "cell_type": "code",
   "execution_count": null,
   "id": "b46b393b",
   "metadata": {},
   "outputs": [],
   "source": [
    "#scraping rent data for Brno\n",
    "#importing url using selenium\n",
    "options = Options()\n",
    "options.add_argument('--disable-blink-features=AutomationControlled')\n",
    "driver.set_script_timeout(\"600\")\n",
    "driver = webdriver.Chrome()\n",
    "url_list_rent_brno = 'https://www.sreality.cz/en/search/to-rent/apartments/brno,brno-venkov?page='\n",
    "urls_rent_brno=[]\n",
    "page_checking = True\n",
    "page_count = 1\n",
    "#looping through pages until the last page\n",
    "while page_checking:\n",
    "    url_rent_brno = url_list_rent_brno + str(page_count)\n",
    "    driver.get(url_rent_brno)\n",
    "    driver.maximize_window()\n",
    "    time.sleep(5)\n",
    "    response = driver.page_source.encode('utf-8').strip()\n",
    "    soup = BeautifulSoup(response, 'lxml')\n",
    "    \n",
    "    last_page = soup.find('p', class_=\"status-text ng-binding\")\n",
    "    \n",
    "    if last_page is not None:\n",
    "        page_checking = False\n",
    "    \n",
    "    else:\n",
    "        urls_rent_brno.append(url_rent_brno)\n",
    "        page_count = page_count+1\n",
    "driver.quit()"
   ]
  },
  {
   "cell_type": "code",
   "execution_count": 83,
   "id": "4095a0d0",
   "metadata": {},
   "outputs": [],
   "source": [
    "#looping through each page to extract listings\n",
    "listings_rent_brno=[]\n",
    "for webpages in urls_rent_brno:\n",
    "    #importing url using selenium\n",
    "    driver = webdriver.Chrome()\n",
    "    driver.get(webpages)\n",
    "    time.sleep(5)\n",
    "    responses = driver.page_source.encode('utf-8').strip()\n",
    "    soup = BeautifulSoup(responses, 'lxml')\n",
    "    #listingss = soup.find_all('div')\n",
    "    li = soup.find_all('div', class_='info clear ng-scope')\n",
    "    listings_rent_brno.append(li)\n",
    "driver.quit()"
   ]
  },
  {
   "cell_type": "markdown",
   "id": "96b6a1b6",
   "metadata": {},
   "source": [
    "### Extracting, cleaning, and transforming required fields"
   ]
  },
  {
   "cell_type": "markdown",
   "id": "09130795",
   "metadata": {},
   "source": [
    "#### Looping through to get individual properties/fields\n"
   ]
  },
  {
   "cell_type": "code",
   "execution_count": 84,
   "id": "72a3a63f",
   "metadata": {},
   "outputs": [],
   "source": [
    "#extracting and cleaning  apartment types \n",
    "types_brno_rent=[]\n",
    "for apartments in listings_rent_brno:\n",
    "    for listing in apartments:\n",
    "        apt_type=listing.find('span',class_=\"name ng-binding\").text.split('apartment')[-1][:5]\n",
    "        types_brno_rent.append(apt_type)"
   ]
  },
  {
   "cell_type": "code",
   "execution_count": 85,
   "id": "f8c96933",
   "metadata": {},
   "outputs": [],
   "source": [
    "#extracting and cleaning apartment sizes \n",
    "sizes_brno_rent=[]\n",
    "for apartments in listings_rent_brno:\n",
    "    for listing in apartments:   \n",
    "        apt_size=listing.find('span',class_=\"name ng-binding\").text.replace('+1',',').replace('kt',',').split(',')\\\n",
    "        [-1].split('m²')[0].split('unusual')[-1].split('plus')[-1]\n",
    "        sizes_brno_rent.append(apt_size)"
   ]
  },
  {
   "cell_type": "code",
   "execution_count": 86,
   "id": "8f86af17",
   "metadata": {},
   "outputs": [],
   "source": [
    "#extracting and cleaning units \n",
    "units_brno_rent=[]\n",
    "for apartments in listings_rent_brno:\n",
    "    for listing in apartments:   \n",
    "        apt_units=listing.find('span',class_=\"name ng-binding\").text.replace('+1',',').replace('kt',',')\\\n",
    "        .rpartition('m²')[1]\n",
    "        [-1][3:]\n",
    "        units_brno_rent.append(apt_units)"
   ]
  },
  {
   "cell_type": "code",
   "execution_count": 87,
   "id": "6b731efa",
   "metadata": {},
   "outputs": [],
   "source": [
    "#extracting and cleaning streets\n",
    "streets_brno_rent=[]\n",
    "for apartments in listings_rent_brno:\n",
    "    for listing in apartments:    \n",
    "        apt_street=listing.find('span', class_=\"locality ng-binding\").text.split(',',1)[0]\n",
    "        streets_brno_rent.append(apt_street)"
   ]
  },
  {
   "cell_type": "code",
   "execution_count": 88,
   "id": "45f39cce",
   "metadata": {},
   "outputs": [],
   "source": [
    "#extracting and cleaning municipal_district\n",
    "municipal_district_brno_rent=[]\n",
    "for apartments in listings_rent_brno:\n",
    "    for listing in apartments:\n",
    "        apt_municipal_district=listing.find('span', class_=\"locality ng-binding\").text.split(',',1)[-1].split('-')[0]\n",
    "        municipal_district_brno_rent.append(apt_municipal_district)"
   ]
  },
  {
   "cell_type": "code",
   "execution_count": 89,
   "id": "be76fcc7",
   "metadata": {},
   "outputs": [],
   "source": [
    "#extracting and cleaning features\n",
    "other_features_brno_rent=[]\n",
    "for apartments in listings_rent_brno:\n",
    "    for listing in apartments:\n",
    "        features=[]\n",
    "        feature=listing.find('span', class_=\"label ng-binding ng-scope\")\n",
    "        features.append(feature)\n",
    "        for feat in features:\n",
    "            if feat is not None:\n",
    "                otherfeatures = feat.text.replace('\\n\\t\\t\\t\\t\\t','')\n",
    "            else:\n",
    "                otherfeatures = None\n",
    "            other_features_brno_rent.append(otherfeatures)"
   ]
  },
  {
   "cell_type": "code",
   "execution_count": 90,
   "id": "72dce039",
   "metadata": {},
   "outputs": [],
   "source": [
    "#extracting and cleaning neighbourhood\n",
    "neighbourhood_brno_rent=[]\n",
    "for apartments in listings_rent_brno:\n",
    "    for listing in apartments:\n",
    "        apt_neighbourhood=listing.find('span', class_=\"locality ng-binding\").text.split(' ')[-1]\n",
    "        neighbourhood_brno_rent.append(apt_neighbourhood)"
   ]
  },
  {
   "cell_type": "code",
   "execution_count": 91,
   "id": "06cdb744",
   "metadata": {},
   "outputs": [],
   "source": [
    "#extracting and cleaning price\n",
    "price_brno_rent=[]\n",
    "for apartments in listings_rent_brno:\n",
    "    for listing in apartments:\n",
    "        apt_price=listing.find('span', class_=\"norm-price ng-binding\").text.split('per')[0].replace('CZK','')\n",
    "        price_brno_rent.append(apt_price)"
   ]
  },
  {
   "cell_type": "code",
   "execution_count": 178,
   "id": "3b7c9e99",
   "metadata": {
    "scrolled": true
   },
   "outputs": [
    {
     "data": {
      "text/html": [
       "<div>\n",
       "<style scoped>\n",
       "    .dataframe tbody tr th:only-of-type {\n",
       "        vertical-align: middle;\n",
       "    }\n",
       "\n",
       "    .dataframe tbody tr th {\n",
       "        vertical-align: top;\n",
       "    }\n",
       "\n",
       "    .dataframe thead th {\n",
       "        text-align: right;\n",
       "    }\n",
       "</style>\n",
       "<table border=\"1\" class=\"dataframe\">\n",
       "  <thead>\n",
       "    <tr style=\"text-align: right;\">\n",
       "      <th></th>\n",
       "      <th>types</th>\n",
       "      <th>sizes</th>\n",
       "      <th>units</th>\n",
       "      <th>streets</th>\n",
       "      <th>municipal_district</th>\n",
       "      <th>neighbourhood</th>\n",
       "      <th>price</th>\n",
       "      <th>other_features</th>\n",
       "    </tr>\n",
       "  </thead>\n",
       "  <tbody>\n",
       "    <tr>\n",
       "      <th>0</th>\n",
       "      <td>3+1</td>\n",
       "      <td>80</td>\n",
       "      <td>m²</td>\n",
       "      <td>Teyschlova</td>\n",
       "      <td>Brno</td>\n",
       "      <td>Bystrc</td>\n",
       "      <td>19 000</td>\n",
       "      <td>Loggia</td>\n",
       "    </tr>\n",
       "    <tr>\n",
       "      <th>1</th>\n",
       "      <td>1+kt</td>\n",
       "      <td>23</td>\n",
       "      <td>m²</td>\n",
       "      <td>Údolní</td>\n",
       "      <td>Brno</td>\n",
       "      <td>Veveří</td>\n",
       "      <td>11 500</td>\n",
       "      <td>Furnished</td>\n",
       "    </tr>\n",
       "    <tr>\n",
       "      <th>2</th>\n",
       "      <td>2+kt</td>\n",
       "      <td>45</td>\n",
       "      <td>m²</td>\n",
       "      <td>Kociánka</td>\n",
       "      <td>Brno</td>\n",
       "      <td>Pole</td>\n",
       "      <td>14</td>\n",
       "      <td>Collective owenship</td>\n",
       "    </tr>\n",
       "    <tr>\n",
       "      <th>3</th>\n",
       "      <td>4+kt</td>\n",
       "      <td>83</td>\n",
       "      <td>m²</td>\n",
       "      <td>Ponětovická</td>\n",
       "      <td>Brno</td>\n",
       "      <td>Slatina</td>\n",
       "      <td>30 000</td>\n",
       "      <td>Terrace</td>\n",
       "    </tr>\n",
       "    <tr>\n",
       "      <th>4</th>\n",
       "      <td>2+kt</td>\n",
       "      <td>51</td>\n",
       "      <td>m²</td>\n",
       "      <td>Trnitá</td>\n",
       "      <td>Brno</td>\n",
       "      <td>Trnitá</td>\n",
       "      <td>17 000</td>\n",
       "      <td>New buildings</td>\n",
       "    </tr>\n",
       "  </tbody>\n",
       "</table>\n",
       "</div>"
      ],
      "text/plain": [
       "   types sizes units      streets municipal_district neighbourhood     price  \\\n",
       "0   3+1    80     m²   Teyschlova              Brno         Bystrc  19 000     \n",
       "1   1+kt   23     m²       Údolní              Brno         Veveří  11 500     \n",
       "2   2+kt   45     m²     Kociánka              Brno           Pole      14     \n",
       "3   4+kt   83     m²  Ponětovická              Brno        Slatina  30 000     \n",
       "4   2+kt   51     m²       Trnitá              Brno         Trnitá  17 000     \n",
       "\n",
       "         other_features  \n",
       "0               Loggia   \n",
       "1            Furnished   \n",
       "2  Collective owenship   \n",
       "3              Terrace   \n",
       "4        New buildings   "
      ]
     },
     "execution_count": 178,
     "metadata": {},
     "output_type": "execute_result"
    }
   ],
   "source": [
    "brno_rent=pd.DataFrame({'types': types_brno_rent,'sizes':sizes_brno_rent,'units':units_brno_rent,'streets'\\\n",
    "                         :streets_brno_rent,'municipal_district':municipal_district_brno_rent,'neighbourhood'\\\n",
    "                         :neighbourhood_brno_rent,'price':price_brno_rent,'other_features':other_features_brno_rent})\n",
    "brno_rent.head()"
   ]
  },
  {
   "cell_type": "markdown",
   "id": "b6ffc3d5",
   "metadata": {},
   "source": [
    "#### Performing EDA and Dropping outlier rows"
   ]
  },
  {
   "cell_type": "code",
   "execution_count": 93,
   "id": "277a6d4c",
   "metadata": {},
   "outputs": [
    {
     "data": {
      "text/plain": [
       " 1+kt    140\n",
       " 2+kt    120\n",
       " 2+1      78\n",
       " 1+1      57\n",
       " 3+kt     43\n",
       " 3+1      36\n",
       " 4+1      12\n",
       " 4+kt      8\n",
       "To re      7\n",
       " 5+kt      2\n",
       " unus      1\n",
       " 5+1       1\n",
       "Name: types, dtype: int64"
      ]
     },
     "execution_count": 93,
     "metadata": {},
     "output_type": "execute_result"
    }
   ],
   "source": [
    "brno_rent['types'].value_counts()"
   ]
  },
  {
   "cell_type": "code",
   "execution_count": 179,
   "id": "64c5e673",
   "metadata": {
    "scrolled": true
   },
   "outputs": [
    {
     "data": {
      "text/plain": [
       " 30     18\n",
       " 45     13\n",
       " 32     11\n",
       " 24     10\n",
       " 40      9\n",
       "Name: sizes, dtype: int64"
      ]
     },
     "execution_count": 179,
     "metadata": {},
     "output_type": "execute_result"
    }
   ],
   "source": [
    "brno_rent['sizes'].value_counts().head()"
   ]
  },
  {
   "cell_type": "code",
   "execution_count": 180,
   "id": "016740a2",
   "metadata": {},
   "outputs": [
    {
     "data": {
      "text/plain": [
       "Bratislavská       11\n",
       "Václavská          11\n",
       "Palackého třída     8\n",
       "Holzova             8\n",
       "Hybešova            8\n",
       "Name: streets, dtype: int64"
      ]
     },
     "execution_count": 180,
     "metadata": {},
     "output_type": "execute_result"
    }
   ],
   "source": [
    "brno_rent['streets'].value_counts().head()"
   ]
  },
  {
   "cell_type": "code",
   "execution_count": 181,
   "id": "d65b4d8b",
   "metadata": {
    "scrolled": true
   },
   "outputs": [
    {
     "data": {
      "text/plain": [
       "0     Brno \n",
       "1     Brno \n",
       "2     Brno \n",
       "3     Brno \n",
       "4     Brno \n",
       "Name: municipal_district, dtype: object"
      ]
     },
     "execution_count": 181,
     "metadata": {},
     "output_type": "execute_result"
    }
   ],
   "source": [
    "brno_rent['municipal_district'].head()"
   ]
  },
  {
   "cell_type": "code",
   "execution_count": 182,
   "id": "ef56f57d",
   "metadata": {
    "scrolled": true
   },
   "outputs": [
    {
     "data": {
      "text/plain": [
       "Pole          51\n",
       "Brno          51\n",
       "Veveří        40\n",
       "Zábrdovice    39\n",
       "Brno-město    30\n",
       "Name: neighbourhood, dtype: int64"
      ]
     },
     "execution_count": 182,
     "metadata": {},
     "output_type": "execute_result"
    }
   ],
   "source": [
    "brno_rent['neighbourhood'].value_counts().head()"
   ]
  },
  {
   "cell_type": "code",
   "execution_count": 98,
   "id": "c72ffaf8",
   "metadata": {},
   "outputs": [],
   "source": [
    "brno_rent.drop(brno_rent[brno_rent['price'].str.contains('Information')].index, inplace=True)"
   ]
  },
  {
   "cell_type": "code",
   "execution_count": 99,
   "id": "1dcc60af",
   "metadata": {},
   "outputs": [],
   "source": [
    "brno_rent.drop(brno_rent[brno_rent['sizes'].str.contains('room')].index, inplace=True)"
   ]
  },
  {
   "cell_type": "code",
   "execution_count": 100,
   "id": "19b89c73",
   "metadata": {},
   "outputs": [],
   "source": [
    "brno_rent['types']=brno_rent['types'].str.replace(u'\\xa0',u' ').str.strip().str.replace(' ','')"
   ]
  },
  {
   "cell_type": "markdown",
   "id": "a0661960",
   "metadata": {},
   "source": [
    "#### Checking and converting types"
   ]
  },
  {
   "cell_type": "code",
   "execution_count": 101,
   "id": "c553b47b",
   "metadata": {},
   "outputs": [
    {
     "name": "stdout",
     "output_type": "stream",
     "text": [
      "types                 object\n",
      "sizes                 object\n",
      "units                 object\n",
      "streets               object\n",
      "municipal_district    object\n",
      "neighbourhood         object\n",
      "price                 object\n",
      "other_features        object\n",
      "dtype: object\n"
     ]
    }
   ],
   "source": [
    "#checking types\n",
    "print(brno_rent.dtypes)"
   ]
  },
  {
   "cell_type": "code",
   "execution_count": 102,
   "id": "87018d58",
   "metadata": {},
   "outputs": [],
   "source": [
    "#converting sizes to int\n",
    "brno_rent['sizes']=brno_rent['sizes'].str.replace(u'\\xa0',u' ').str.strip().str.replace(' ','')\n",
    "brno_rent['sizes']=pd.to_numeric(brno_rent['sizes'])"
   ]
  },
  {
   "cell_type": "code",
   "execution_count": 103,
   "id": "29b72318",
   "metadata": {},
   "outputs": [],
   "source": [
    "#converting prices to int\n",
    "#prices contains xa0 (unicode character)\n",
    "brno_rent['price']=brno_rent['price'].str.replace(u'\\xa0',u' ').str.strip().str.replace(' ','')\n",
    "brno_rent['price']=pd.to_numeric(brno_rent['price'])"
   ]
  },
  {
   "cell_type": "code",
   "execution_count": 104,
   "id": "33d9ec2f",
   "metadata": {},
   "outputs": [
    {
     "data": {
      "text/html": [
       "<div>\n",
       "<style scoped>\n",
       "    .dataframe tbody tr th:only-of-type {\n",
       "        vertical-align: middle;\n",
       "    }\n",
       "\n",
       "    .dataframe tbody tr th {\n",
       "        vertical-align: top;\n",
       "    }\n",
       "\n",
       "    .dataframe thead th {\n",
       "        text-align: right;\n",
       "    }\n",
       "</style>\n",
       "<table border=\"1\" class=\"dataframe\">\n",
       "  <thead>\n",
       "    <tr style=\"text-align: right;\">\n",
       "      <th></th>\n",
       "      <th>types</th>\n",
       "      <th>sizes</th>\n",
       "      <th>units</th>\n",
       "      <th>streets</th>\n",
       "      <th>municipal_district</th>\n",
       "      <th>neighbourhood</th>\n",
       "      <th>price</th>\n",
       "      <th>other_features</th>\n",
       "    </tr>\n",
       "  </thead>\n",
       "  <tbody>\n",
       "    <tr>\n",
       "      <th>0</th>\n",
       "      <td>3+1</td>\n",
       "      <td>80</td>\n",
       "      <td>m²</td>\n",
       "      <td>Teyschlova</td>\n",
       "      <td>Brno</td>\n",
       "      <td>Bystrc</td>\n",
       "      <td>19000</td>\n",
       "      <td>Loggia</td>\n",
       "    </tr>\n",
       "    <tr>\n",
       "      <th>1</th>\n",
       "      <td>1+kt</td>\n",
       "      <td>23</td>\n",
       "      <td>m²</td>\n",
       "      <td>Údolní</td>\n",
       "      <td>Brno</td>\n",
       "      <td>Veveří</td>\n",
       "      <td>11500</td>\n",
       "      <td>Furnished</td>\n",
       "    </tr>\n",
       "    <tr>\n",
       "      <th>2</th>\n",
       "      <td>2+kt</td>\n",
       "      <td>45</td>\n",
       "      <td>m²</td>\n",
       "      <td>Kociánka</td>\n",
       "      <td>Brno</td>\n",
       "      <td>Pole</td>\n",
       "      <td>14</td>\n",
       "      <td>Collective owenship</td>\n",
       "    </tr>\n",
       "    <tr>\n",
       "      <th>3</th>\n",
       "      <td>4+kt</td>\n",
       "      <td>83</td>\n",
       "      <td>m²</td>\n",
       "      <td>Ponětovická</td>\n",
       "      <td>Brno</td>\n",
       "      <td>Slatina</td>\n",
       "      <td>30000</td>\n",
       "      <td>Terrace</td>\n",
       "    </tr>\n",
       "    <tr>\n",
       "      <th>4</th>\n",
       "      <td>2+kt</td>\n",
       "      <td>51</td>\n",
       "      <td>m²</td>\n",
       "      <td>Trnitá</td>\n",
       "      <td>Brno</td>\n",
       "      <td>Trnitá</td>\n",
       "      <td>17000</td>\n",
       "      <td>New buildings</td>\n",
       "    </tr>\n",
       "  </tbody>\n",
       "</table>\n",
       "</div>"
      ],
      "text/plain": [
       "  types  sizes units      streets municipal_district neighbourhood  price  \\\n",
       "0   3+1     80    m²   Teyschlova              Brno         Bystrc  19000   \n",
       "1  1+kt     23    m²       Údolní              Brno         Veveří  11500   \n",
       "2  2+kt     45    m²     Kociánka              Brno           Pole     14   \n",
       "3  4+kt     83    m²  Ponětovická              Brno        Slatina  30000   \n",
       "4  2+kt     51    m²       Trnitá              Brno         Trnitá  17000   \n",
       "\n",
       "         other_features  \n",
       "0               Loggia   \n",
       "1            Furnished   \n",
       "2  Collective owenship   \n",
       "3              Terrace   \n",
       "4        New buildings   "
      ]
     },
     "execution_count": 104,
     "metadata": {},
     "output_type": "execute_result"
    }
   ],
   "source": [
    "brno_rent.head()"
   ]
  },
  {
   "cell_type": "markdown",
   "id": "dfc4642d",
   "metadata": {},
   "source": [
    "#### Feature Engineering"
   ]
  },
  {
   "cell_type": "code",
   "execution_count": 105,
   "id": "e9bcba42",
   "metadata": {},
   "outputs": [],
   "source": [
    "#Calculating CostPerSquaremetre\n",
    "brno_rent['CostPerSquaremetre']= brno_rent['price']/brno_rent['sizes']"
   ]
  },
  {
   "cell_type": "code",
   "execution_count": 106,
   "id": "0cccd0a1",
   "metadata": {},
   "outputs": [],
   "source": [
    "brno_rent['CostPerSquaremetre']=brno_rent['CostPerSquaremetre'].round(0)"
   ]
  },
  {
   "cell_type": "code",
   "execution_count": 107,
   "id": "19e1077c",
   "metadata": {},
   "outputs": [],
   "source": [
    "#does this apartment contain separate kitchen?\n",
    "brno_rent['Separate_kitchen']=brno_rent['types'].apply(kitchen)"
   ]
  },
  {
   "cell_type": "code",
   "execution_count": 108,
   "id": "6a6f4467",
   "metadata": {},
   "outputs": [],
   "source": [
    "#defining data category\n",
    "brno_rent['data category']= 'brno_rent'"
   ]
  },
  {
   "cell_type": "code",
   "execution_count": 109,
   "id": "7053c0b9",
   "metadata": {},
   "outputs": [
    {
     "data": {
      "text/html": [
       "<div>\n",
       "<style scoped>\n",
       "    .dataframe tbody tr th:only-of-type {\n",
       "        vertical-align: middle;\n",
       "    }\n",
       "\n",
       "    .dataframe tbody tr th {\n",
       "        vertical-align: top;\n",
       "    }\n",
       "\n",
       "    .dataframe thead th {\n",
       "        text-align: right;\n",
       "    }\n",
       "</style>\n",
       "<table border=\"1\" class=\"dataframe\">\n",
       "  <thead>\n",
       "    <tr style=\"text-align: right;\">\n",
       "      <th></th>\n",
       "      <th>types</th>\n",
       "      <th>sizes</th>\n",
       "      <th>units</th>\n",
       "      <th>streets</th>\n",
       "      <th>municipal_district</th>\n",
       "      <th>neighbourhood</th>\n",
       "      <th>price</th>\n",
       "      <th>other_features</th>\n",
       "      <th>CostPerSquaremetre</th>\n",
       "      <th>Separate_kitchen</th>\n",
       "      <th>data category</th>\n",
       "    </tr>\n",
       "  </thead>\n",
       "  <tbody>\n",
       "    <tr>\n",
       "      <th>0</th>\n",
       "      <td>3+1</td>\n",
       "      <td>80</td>\n",
       "      <td>m²</td>\n",
       "      <td>Teyschlova</td>\n",
       "      <td>Brno</td>\n",
       "      <td>Bystrc</td>\n",
       "      <td>19000</td>\n",
       "      <td>Loggia</td>\n",
       "      <td>238.0</td>\n",
       "      <td>1</td>\n",
       "      <td>brno_rent</td>\n",
       "    </tr>\n",
       "    <tr>\n",
       "      <th>1</th>\n",
       "      <td>1+kt</td>\n",
       "      <td>23</td>\n",
       "      <td>m²</td>\n",
       "      <td>Údolní</td>\n",
       "      <td>Brno</td>\n",
       "      <td>Veveří</td>\n",
       "      <td>11500</td>\n",
       "      <td>Furnished</td>\n",
       "      <td>500.0</td>\n",
       "      <td>0</td>\n",
       "      <td>brno_rent</td>\n",
       "    </tr>\n",
       "    <tr>\n",
       "      <th>2</th>\n",
       "      <td>2+kt</td>\n",
       "      <td>45</td>\n",
       "      <td>m²</td>\n",
       "      <td>Kociánka</td>\n",
       "      <td>Brno</td>\n",
       "      <td>Pole</td>\n",
       "      <td>14</td>\n",
       "      <td>Collective owenship</td>\n",
       "      <td>0.0</td>\n",
       "      <td>0</td>\n",
       "      <td>brno_rent</td>\n",
       "    </tr>\n",
       "    <tr>\n",
       "      <th>3</th>\n",
       "      <td>4+kt</td>\n",
       "      <td>83</td>\n",
       "      <td>m²</td>\n",
       "      <td>Ponětovická</td>\n",
       "      <td>Brno</td>\n",
       "      <td>Slatina</td>\n",
       "      <td>30000</td>\n",
       "      <td>Terrace</td>\n",
       "      <td>361.0</td>\n",
       "      <td>0</td>\n",
       "      <td>brno_rent</td>\n",
       "    </tr>\n",
       "    <tr>\n",
       "      <th>4</th>\n",
       "      <td>2+kt</td>\n",
       "      <td>51</td>\n",
       "      <td>m²</td>\n",
       "      <td>Trnitá</td>\n",
       "      <td>Brno</td>\n",
       "      <td>Trnitá</td>\n",
       "      <td>17000</td>\n",
       "      <td>New buildings</td>\n",
       "      <td>333.0</td>\n",
       "      <td>0</td>\n",
       "      <td>brno_rent</td>\n",
       "    </tr>\n",
       "  </tbody>\n",
       "</table>\n",
       "</div>"
      ],
      "text/plain": [
       "  types  sizes units      streets municipal_district neighbourhood  price  \\\n",
       "0   3+1     80    m²   Teyschlova              Brno         Bystrc  19000   \n",
       "1  1+kt     23    m²       Údolní              Brno         Veveří  11500   \n",
       "2  2+kt     45    m²     Kociánka              Brno           Pole     14   \n",
       "3  4+kt     83    m²  Ponětovická              Brno        Slatina  30000   \n",
       "4  2+kt     51    m²       Trnitá              Brno         Trnitá  17000   \n",
       "\n",
       "         other_features  CostPerSquaremetre Separate_kitchen data category  \n",
       "0               Loggia                238.0                1     brno_rent  \n",
       "1            Furnished                500.0                0     brno_rent  \n",
       "2  Collective owenship                  0.0                0     brno_rent  \n",
       "3              Terrace                361.0                0     brno_rent  \n",
       "4        New buildings                333.0                0     brno_rent  "
      ]
     },
     "execution_count": 109,
     "metadata": {},
     "output_type": "execute_result"
    }
   ],
   "source": [
    "brno_rent.head()"
   ]
  },
  {
   "cell_type": "code",
   "execution_count": 110,
   "id": "61ca8241",
   "metadata": {},
   "outputs": [
    {
     "name": "stdout",
     "output_type": "stream",
     "text": [
      "<class 'pandas.core.frame.DataFrame'>\n",
      "Int64Index: 495 entries, 0 to 504\n",
      "Data columns (total 11 columns):\n",
      " #   Column              Non-Null Count  Dtype  \n",
      "---  ------              --------------  -----  \n",
      " 0   types               495 non-null    object \n",
      " 1   sizes               495 non-null    int64  \n",
      " 2   units               495 non-null    object \n",
      " 3   streets             495 non-null    object \n",
      " 4   municipal_district  495 non-null    object \n",
      " 5   neighbourhood       495 non-null    object \n",
      " 6   price               495 non-null    int64  \n",
      " 7   other_features      385 non-null    object \n",
      " 8   CostPerSquaremetre  495 non-null    float64\n",
      " 9   Separate_kitchen    495 non-null    object \n",
      " 10  data category       495 non-null    object \n",
      "dtypes: float64(1), int64(2), object(8)\n",
      "memory usage: 46.4+ KB\n"
     ]
    }
   ],
   "source": [
    "brno_rent.info()"
   ]
  },
  {
   "cell_type": "markdown",
   "id": "afe37393",
   "metadata": {},
   "source": [
    "### Extracting rent data for Prague\n"
   ]
  },
  {
   "cell_type": "code",
   "execution_count": null,
   "id": "5690a44d",
   "metadata": {},
   "outputs": [],
   "source": [
    "#scraping rent data for Prague\n",
    "#importing url using selenium\n",
    "options = Options()\n",
    "options.add_argument('--disable-blink-features=AutomationControlled')\n",
    "driver.set_script_timeout(\"600\")\n",
    "driver = webdriver.Chrome()\n",
    "url_list_rent_prague = 'https://www.sreality.cz/en/search/to-rent/apartments/praha?page='\n",
    "urls_rent_prague=[]\n",
    "page_checking = True\n",
    "page_count = 1\n",
    "\n",
    "while page_checking:\n",
    "    url_rent_prague = url_list_rent_prague + str(page_count)\n",
    "    driver.get(url_rent_prague)\n",
    "    driver.maximize_window()\n",
    "    time.sleep(5)\n",
    "    response = driver.page_source.encode('utf-8').strip()\n",
    "    soup = BeautifulSoup(response, 'lxml')\n",
    "    \n",
    "    last_page = soup.find('p', class_=\"status-text ng-binding\")\n",
    "    \n",
    "    if last_page is not None:\n",
    "        page_checking = False\n",
    "    \n",
    "    else:\n",
    "        urls_rent_prague.append(url_rent_prague)\n",
    "        page_count = page_count+1\n",
    "driver.quit()"
   ]
  },
  {
   "cell_type": "code",
   "execution_count": 114,
   "id": "17c88ad3",
   "metadata": {},
   "outputs": [],
   "source": [
    "listings_rent_prague=[]\n",
    "for webpages in urls_rent_prague:\n",
    "    #importing url using selenium\n",
    "    driver = webdriver.Chrome()\n",
    "    driver.get(webpages)\n",
    "    time.sleep(5)\n",
    "    responses = driver.page_source.encode('utf-8').strip()\n",
    "    soup = BeautifulSoup(responses, 'lxml')\n",
    "    #listingss = soup.find_all('div')\n",
    "    li = soup.find_all('div', class_='info clear ng-scope')\n",
    "    listings_rent_prague.append(li)\n",
    "driver.quit()"
   ]
  },
  {
   "cell_type": "markdown",
   "id": "864afeec",
   "metadata": {},
   "source": [
    "### Extracting, cleaning, and transforming required fields\n"
   ]
  },
  {
   "cell_type": "markdown",
   "id": "222bac8f",
   "metadata": {},
   "source": [
    "#### Looping through to get individual properties/fields\n"
   ]
  },
  {
   "cell_type": "code",
   "execution_count": 115,
   "id": "9f358865",
   "metadata": {},
   "outputs": [],
   "source": [
    "#extracting and cleaning  apartment types \n",
    "types_prague_rent=[]\n",
    "for apartments in listings_rent_prague:\n",
    "    for listing in apartments:\n",
    "        apt_type=listing.find('span',class_=\"name ng-binding\").text.split('apartment')[-1][:5]\n",
    "        types_prague_rent.append(apt_type)"
   ]
  },
  {
   "cell_type": "code",
   "execution_count": 116,
   "id": "60eaa758",
   "metadata": {},
   "outputs": [],
   "source": [
    "#extracting and cleaning apartment sizes \n",
    "sizes_prague_rent=[]\n",
    "for apartments in listings_rent_prague:\n",
    "    for listing in apartments:   \n",
    "        apt_size=listing.find('span',class_=\"name ng-binding\").text.replace('+1',',').replace('kt',',').split(',')\\\n",
    "        [-1].split('m²')[0].split('unusual')[-1].split('plus')[-1].replace(u'\\xa0',u' ')\n",
    "        sizes_prague_rent.append(apt_size) "
   ]
  },
  {
   "cell_type": "code",
   "execution_count": 117,
   "id": "e66f9763",
   "metadata": {},
   "outputs": [],
   "source": [
    "#extracting and cleaning units \n",
    "units_prague_rent=[]\n",
    "for apartments in listings_rent_prague:\n",
    "    for listing in apartments:   \n",
    "        apt_units=listing.find('span',class_=\"name ng-binding\").text.replace('+1',',').replace('kt',',')\\\n",
    "        .rpartition('m²')[1]\n",
    "        [-1][3:]\n",
    "        units_prague_rent.append(apt_units)"
   ]
  },
  {
   "cell_type": "code",
   "execution_count": 118,
   "id": "821337bb",
   "metadata": {},
   "outputs": [],
   "source": [
    "#extracting and cleaning streets\n",
    "streets_prague_rent=[]\n",
    "for apartments in listings_rent_prague:\n",
    "    for listing in apartments:    \n",
    "        apt_street=listing.find('span', class_=\"locality ng-binding\").text.split(',',1)[0]\n",
    "        streets_prague_rent.append(apt_street)"
   ]
  },
  {
   "cell_type": "code",
   "execution_count": 119,
   "id": "f91bc5cf",
   "metadata": {},
   "outputs": [],
   "source": [
    "#extracting and cleaning municipal_district\n",
    "municipal_district_prague_rent=[]\n",
    "for apartments in listings_rent_prague:\n",
    "    for listing in apartments:\n",
    "        apt_municipal_district=listing.find('span', class_=\"locality ng-binding\").text.split(',',1)[-1].split('-')[0]\n",
    "        municipal_district_prague_rent.append(apt_municipal_district.strip())"
   ]
  },
  {
   "cell_type": "code",
   "execution_count": 120,
   "id": "5d6d5127",
   "metadata": {},
   "outputs": [],
   "source": [
    "#extracting and cleaning features\n",
    "other_features_prague_rent=[]\n",
    "for apartments in listings_rent_prague:\n",
    "    for listing in apartments:\n",
    "        features=[]\n",
    "        feature=listing.find('span', class_=\"label ng-binding ng-scope\")\n",
    "        features.append(feature)\n",
    "        for feat in features:\n",
    "            if feat is not None:\n",
    "                otherfeatures = feat.text.replace('\\n\\t\\t\\t\\t\\t','')\n",
    "            else:\n",
    "                otherfeatures = None\n",
    "            other_features_prague_rent.append(otherfeatures)"
   ]
  },
  {
   "cell_type": "code",
   "execution_count": 121,
   "id": "63999ba0",
   "metadata": {},
   "outputs": [],
   "source": [
    "#extracting and cleaning neighbourhood\n",
    "neighbourhood_prague_rent=[]\n",
    "for apartments in listings_rent_prague:\n",
    "    for listing in apartments:\n",
    "        apt_neighbourhood=listing.find('span', class_=\"locality ng-binding\").text.split(' ')[-1]\n",
    "        neighbourhood_prague_rent.append(apt_neighbourhood)"
   ]
  },
  {
   "cell_type": "code",
   "execution_count": 122,
   "id": "4e316f07",
   "metadata": {},
   "outputs": [],
   "source": [
    "#extracting and cleaning price\n",
    "price_prague_rent=[]\n",
    "for apartments in listings_rent_prague:\n",
    "    for listing in apartments:\n",
    "        apt_price=listing.find('span', class_=\"norm-price ng-binding\").text.split('per')[0].replace('CZK','')\n",
    "        price_prague_rent.append(apt_price)"
   ]
  },
  {
   "cell_type": "code",
   "execution_count": 123,
   "id": "2cb95210",
   "metadata": {},
   "outputs": [
    {
     "data": {
      "text/html": [
       "<div>\n",
       "<style scoped>\n",
       "    .dataframe tbody tr th:only-of-type {\n",
       "        vertical-align: middle;\n",
       "    }\n",
       "\n",
       "    .dataframe tbody tr th {\n",
       "        vertical-align: top;\n",
       "    }\n",
       "\n",
       "    .dataframe thead th {\n",
       "        text-align: right;\n",
       "    }\n",
       "</style>\n",
       "<table border=\"1\" class=\"dataframe\">\n",
       "  <thead>\n",
       "    <tr style=\"text-align: right;\">\n",
       "      <th></th>\n",
       "      <th>types</th>\n",
       "      <th>sizes</th>\n",
       "      <th>units</th>\n",
       "      <th>streets</th>\n",
       "      <th>municipal_district</th>\n",
       "      <th>neighbourhood</th>\n",
       "      <th>price</th>\n",
       "      <th>other_features</th>\n",
       "    </tr>\n",
       "  </thead>\n",
       "  <tbody>\n",
       "    <tr>\n",
       "      <th>0</th>\n",
       "      <td>2+kt</td>\n",
       "      <td>50</td>\n",
       "      <td>m²</td>\n",
       "      <td>Pod Vyšehradem</td>\n",
       "      <td>Praha 4</td>\n",
       "      <td>Podolí</td>\n",
       "      <td>21 000</td>\n",
       "      <td>Garage</td>\n",
       "    </tr>\n",
       "    <tr>\n",
       "      <th>1</th>\n",
       "      <td>2+1</td>\n",
       "      <td>47</td>\n",
       "      <td>m²</td>\n",
       "      <td>Odborů</td>\n",
       "      <td>Praha 2</td>\n",
       "      <td>Město</td>\n",
       "      <td>24 000</td>\n",
       "      <td>Grocery 5 min walk</td>\n",
       "    </tr>\n",
       "    <tr>\n",
       "      <th>2</th>\n",
       "      <td>3+kt</td>\n",
       "      <td>70</td>\n",
       "      <td>m²</td>\n",
       "      <td>Tomáškova</td>\n",
       "      <td>Praha 5</td>\n",
       "      <td>Smíchov</td>\n",
       "      <td>25 000</td>\n",
       "      <td>Cellar</td>\n",
       "    </tr>\n",
       "    <tr>\n",
       "      <th>3</th>\n",
       "      <td>2+1</td>\n",
       "      <td>40</td>\n",
       "      <td>m²</td>\n",
       "      <td>Souběžná III</td>\n",
       "      <td>Praha 5</td>\n",
       "      <td>Jinonice</td>\n",
       "      <td>15 000</td>\n",
       "      <td>Terrace</td>\n",
       "    </tr>\n",
       "    <tr>\n",
       "      <th>4</th>\n",
       "      <td>3+kt</td>\n",
       "      <td>115</td>\n",
       "      <td>m²</td>\n",
       "      <td>Radimova</td>\n",
       "      <td>Praha 6</td>\n",
       "      <td>Břevnov</td>\n",
       "      <td>36 000</td>\n",
       "      <td>New buildings</td>\n",
       "    </tr>\n",
       "    <tr>\n",
       "      <th>...</th>\n",
       "      <td>...</td>\n",
       "      <td>...</td>\n",
       "      <td>...</td>\n",
       "      <td>...</td>\n",
       "      <td>...</td>\n",
       "      <td>...</td>\n",
       "      <td>...</td>\n",
       "      <td>...</td>\n",
       "    </tr>\n",
       "    <tr>\n",
       "      <th>1950</th>\n",
       "      <td>3+kt</td>\n",
       "      <td>109</td>\n",
       "      <td>m²</td>\n",
       "      <td>Filmařská</td>\n",
       "      <td>Praha 5</td>\n",
       "      <td>Hlubočepy</td>\n",
       "      <td>33 000</td>\n",
       "      <td>None</td>\n",
       "    </tr>\n",
       "    <tr>\n",
       "      <th>1951</th>\n",
       "      <td>3+kt</td>\n",
       "      <td>88</td>\n",
       "      <td>m²</td>\n",
       "      <td>Toužimská</td>\n",
       "      <td>Praha 9</td>\n",
       "      <td>Kbely</td>\n",
       "      <td>19 500</td>\n",
       "      <td>Balcony</td>\n",
       "    </tr>\n",
       "    <tr>\n",
       "      <th>1952</th>\n",
       "      <td>3+kt</td>\n",
       "      <td>107</td>\n",
       "      <td>m²</td>\n",
       "      <td>Italská</td>\n",
       "      <td>Praha 2</td>\n",
       "      <td>Vinohrady</td>\n",
       "      <td>61 321</td>\n",
       "      <td>Balcony</td>\n",
       "    </tr>\n",
       "    <tr>\n",
       "      <th>1953</th>\n",
       "      <td>5+1</td>\n",
       "      <td>210</td>\n",
       "      <td>m²</td>\n",
       "      <td>Pod Kaštany</td>\n",
       "      <td>Praha 6</td>\n",
       "      <td>Bubeneč</td>\n",
       "      <td>80 000</td>\n",
       "      <td>Cellar</td>\n",
       "    </tr>\n",
       "    <tr>\n",
       "      <th>1954</th>\n",
       "      <td>3+kt</td>\n",
       "      <td>107</td>\n",
       "      <td>m²</td>\n",
       "      <td>Italská</td>\n",
       "      <td>Praha 2</td>\n",
       "      <td>Vinohrady</td>\n",
       "      <td>61 321</td>\n",
       "      <td>Subway 5 min walk</td>\n",
       "    </tr>\n",
       "  </tbody>\n",
       "</table>\n",
       "<p>1955 rows × 8 columns</p>\n",
       "</div>"
      ],
      "text/plain": [
       "      types  sizes units         streets municipal_district neighbourhood  \\\n",
       "0      2+kt    50     m²  Pod Vyšehradem            Praha 4        Podolí   \n",
       "1      2+1     47     m²          Odborů            Praha 2         Město   \n",
       "2      3+kt    70     m²       Tomáškova            Praha 5       Smíchov   \n",
       "3      2+1     40     m²    Souběžná III            Praha 5      Jinonice   \n",
       "4      3+kt   115     m²        Radimova            Praha 6       Břevnov   \n",
       "...     ...    ...   ...             ...                ...           ...   \n",
       "1950   3+kt   109     m²       Filmařská            Praha 5     Hlubočepy   \n",
       "1951   3+kt    88     m²       Toužimská            Praha 9         Kbely   \n",
       "1952   3+kt   107     m²         Italská            Praha 2     Vinohrady   \n",
       "1953   5+1    210     m²     Pod Kaštany            Praha 6       Bubeneč   \n",
       "1954   3+kt   107     m²         Italská            Praha 2     Vinohrady   \n",
       "\n",
       "         price       other_features  \n",
       "0     21 000                Garage   \n",
       "1     24 000    Grocery 5 min walk   \n",
       "2     25 000                Cellar   \n",
       "3     15 000               Terrace   \n",
       "4     36 000         New buildings   \n",
       "...        ...                  ...  \n",
       "1950  33 000                   None  \n",
       "1951  19 500               Balcony   \n",
       "1952  61 321               Balcony   \n",
       "1953  80 000                Cellar   \n",
       "1954  61 321     Subway 5 min walk   \n",
       "\n",
       "[1955 rows x 8 columns]"
      ]
     },
     "execution_count": 123,
     "metadata": {},
     "output_type": "execute_result"
    }
   ],
   "source": [
    "prague_rent=pd.DataFrame({'types': types_prague_rent,'sizes':sizes_prague_rent,'units':units_prague_rent\\\n",
    "                           ,'streets':streets_prague_rent,'municipal_district':municipal_district_prague_rent,\\\n",
    "                          'neighbourhood':neighbourhood_prague_rent,'price':price_prague_rent,\\\n",
    "                          'other_features':other_features_prague_rent})\n",
    "prague_rent"
   ]
  },
  {
   "cell_type": "markdown",
   "id": "6d2037ee",
   "metadata": {},
   "source": [
    "#### Performing EDA and Dropping outlier rows"
   ]
  },
  {
   "cell_type": "code",
   "execution_count": 124,
   "id": "3f21de4d",
   "metadata": {},
   "outputs": [
    {
     "data": {
      "text/plain": [
       " 2+kt    636\n",
       " 3+kt    325\n",
       " 1+kt    321\n",
       " 2+1     169\n",
       " 3+1     162\n",
       " 1+1     136\n",
       " 4+kt     87\n",
       " 4+1      47\n",
       "To re     25\n",
       " 5+kt     16\n",
       " 5+1      15\n",
       " unus     15\n",
       " 6 ro      1\n",
       "Name: types, dtype: int64"
      ]
     },
     "execution_count": 124,
     "metadata": {},
     "output_type": "execute_result"
    }
   ],
   "source": [
    "prague_rent['types'].value_counts()"
   ]
  },
  {
   "cell_type": "code",
   "execution_count": 184,
   "id": "09853511",
   "metadata": {},
   "outputs": [
    {
     "data": {
      "text/plain": [
       "50    67\n",
       "45    55\n",
       "40    53\n",
       "55    52\n",
       "60    45\n",
       "Name: sizes, dtype: int64"
      ]
     },
     "execution_count": 184,
     "metadata": {},
     "output_type": "execute_result"
    }
   ],
   "source": [
    "prague_rent['sizes'].value_counts().head()"
   ]
  },
  {
   "cell_type": "code",
   "execution_count": 185,
   "id": "05b68802",
   "metadata": {},
   "outputs": [
    {
     "data": {
      "text/plain": [
       "Italská      31\n",
       "Máchova      22\n",
       "Holečkova    22\n",
       "Laubova      21\n",
       "Sázavská     17\n",
       "Name: streets, dtype: int64"
      ]
     },
     "execution_count": 185,
     "metadata": {},
     "output_type": "execute_result"
    }
   ],
   "source": [
    "prague_rent['streets'].value_counts().head()"
   ]
  },
  {
   "cell_type": "code",
   "execution_count": 127,
   "id": "807abf75",
   "metadata": {
    "scrolled": true
   },
   "outputs": [
    {
     "data": {
      "text/plain": [
       "Praha 5     290\n",
       "Praha 4     252\n",
       "Praha 2     232\n",
       "Praha 10    187\n",
       "Praha 1     186\n",
       "Praha 3     184\n",
       "Praha 6     151\n",
       "Praha 9     151\n",
       "Praha 8     128\n",
       "Praha       113\n",
       "Praha 7      81\n",
       "Name: municipal_district, dtype: int64"
      ]
     },
     "execution_count": 127,
     "metadata": {},
     "output_type": "execute_result"
    }
   ],
   "source": [
    "prague_rent['municipal_district'].value_counts()"
   ]
  },
  {
   "cell_type": "code",
   "execution_count": 186,
   "id": "f617bd64",
   "metadata": {
    "scrolled": true
   },
   "outputs": [
    {
     "data": {
      "text/plain": [
       "Vinohrady    255\n",
       "Město        199\n",
       "Žižkov       117\n",
       "Smíchov      114\n",
       "Libeň         66\n",
       "Name: neighbourhood, dtype: int64"
      ]
     },
     "execution_count": 186,
     "metadata": {},
     "output_type": "execute_result"
    }
   ],
   "source": [
    "prague_rent['neighbourhood'].value_counts().head()"
   ]
  },
  {
   "cell_type": "code",
   "execution_count": 187,
   "id": "9baf863b",
   "metadata": {
    "scrolled": true
   },
   "outputs": [
    {
     "data": {
      "text/plain": [
       "New buildings            243\n",
       "After reconstruction     241\n",
       "Balcony                  119\n",
       "Terrace                  103\n",
       "Partly funished           95\n",
       "Name: other_features, dtype: int64"
      ]
     },
     "execution_count": 187,
     "metadata": {},
     "output_type": "execute_result"
    }
   ],
   "source": [
    "prague_rent['other_features'].value_counts().head()"
   ]
  },
  {
   "cell_type": "code",
   "execution_count": 130,
   "id": "343a5ccd",
   "metadata": {},
   "outputs": [],
   "source": [
    "prague_rent.drop(prague_rent[prague_rent['sizes'].str.contains('r')].index,inplace=True)"
   ]
  },
  {
   "cell_type": "code",
   "execution_count": 131,
   "id": "80d1a545",
   "metadata": {},
   "outputs": [],
   "source": [
    "prague_rent.drop(prague_rent[prague_rent['price'].str.contains('Information')].index, inplace=True)"
   ]
  },
  {
   "cell_type": "code",
   "execution_count": 132,
   "id": "abad41c3",
   "metadata": {},
   "outputs": [],
   "source": [
    "prague_rent['types']=prague_rent['types'].str.replace(u'\\xa0',u' ').str.strip().str.replace(' ','')"
   ]
  },
  {
   "cell_type": "markdown",
   "id": "0bb00d0f",
   "metadata": {},
   "source": [
    "#### Checking and converting types"
   ]
  },
  {
   "cell_type": "code",
   "execution_count": 133,
   "id": "5b5d4b30",
   "metadata": {
    "scrolled": true
   },
   "outputs": [
    {
     "name": "stdout",
     "output_type": "stream",
     "text": [
      "types                 object\n",
      "sizes                 object\n",
      "units                 object\n",
      "streets               object\n",
      "municipal_district    object\n",
      "neighbourhood         object\n",
      "price                 object\n",
      "other_features        object\n",
      "dtype: object\n"
     ]
    }
   ],
   "source": [
    "#checking types\n",
    "print(prague_rent.dtypes)"
   ]
  },
  {
   "cell_type": "code",
   "execution_count": 134,
   "id": "b8387d9a",
   "metadata": {},
   "outputs": [],
   "source": [
    "#converting sizes to int\n",
    "prague_rent['sizes']=prague_rent['sizes'].str.replace(u'\\xa0',u' ').str.strip().str.replace(' ','')\n",
    "prague_rent['sizes']=pd.to_numeric(prague_rent['sizes'])"
   ]
  },
  {
   "cell_type": "code",
   "execution_count": 135,
   "id": "caa120fa",
   "metadata": {},
   "outputs": [],
   "source": [
    "#converting prices to int\n",
    "#prices contains xa0 (unicode character)\n",
    "prague_rent['price']=prague_rent['price'].str.replace(u'\\xa0',u' ').str.strip().str.replace(' ','')\n",
    "prague_rent['price']=pd.to_numeric(prague_rent['price'])"
   ]
  },
  {
   "cell_type": "code",
   "execution_count": 136,
   "id": "9036e193",
   "metadata": {},
   "outputs": [
    {
     "data": {
      "text/html": [
       "<div>\n",
       "<style scoped>\n",
       "    .dataframe tbody tr th:only-of-type {\n",
       "        vertical-align: middle;\n",
       "    }\n",
       "\n",
       "    .dataframe tbody tr th {\n",
       "        vertical-align: top;\n",
       "    }\n",
       "\n",
       "    .dataframe thead th {\n",
       "        text-align: right;\n",
       "    }\n",
       "</style>\n",
       "<table border=\"1\" class=\"dataframe\">\n",
       "  <thead>\n",
       "    <tr style=\"text-align: right;\">\n",
       "      <th></th>\n",
       "      <th>types</th>\n",
       "      <th>sizes</th>\n",
       "      <th>units</th>\n",
       "      <th>streets</th>\n",
       "      <th>municipal_district</th>\n",
       "      <th>neighbourhood</th>\n",
       "      <th>price</th>\n",
       "      <th>other_features</th>\n",
       "    </tr>\n",
       "  </thead>\n",
       "  <tbody>\n",
       "    <tr>\n",
       "      <th>0</th>\n",
       "      <td>2+kt</td>\n",
       "      <td>50</td>\n",
       "      <td>m²</td>\n",
       "      <td>Pod Vyšehradem</td>\n",
       "      <td>Praha 4</td>\n",
       "      <td>Podolí</td>\n",
       "      <td>21000</td>\n",
       "      <td>Garage</td>\n",
       "    </tr>\n",
       "    <tr>\n",
       "      <th>1</th>\n",
       "      <td>2+1</td>\n",
       "      <td>47</td>\n",
       "      <td>m²</td>\n",
       "      <td>Odborů</td>\n",
       "      <td>Praha 2</td>\n",
       "      <td>Město</td>\n",
       "      <td>24000</td>\n",
       "      <td>Grocery 5 min walk</td>\n",
       "    </tr>\n",
       "    <tr>\n",
       "      <th>2</th>\n",
       "      <td>3+kt</td>\n",
       "      <td>70</td>\n",
       "      <td>m²</td>\n",
       "      <td>Tomáškova</td>\n",
       "      <td>Praha 5</td>\n",
       "      <td>Smíchov</td>\n",
       "      <td>25000</td>\n",
       "      <td>Cellar</td>\n",
       "    </tr>\n",
       "    <tr>\n",
       "      <th>3</th>\n",
       "      <td>2+1</td>\n",
       "      <td>40</td>\n",
       "      <td>m²</td>\n",
       "      <td>Souběžná III</td>\n",
       "      <td>Praha 5</td>\n",
       "      <td>Jinonice</td>\n",
       "      <td>15000</td>\n",
       "      <td>Terrace</td>\n",
       "    </tr>\n",
       "    <tr>\n",
       "      <th>4</th>\n",
       "      <td>3+kt</td>\n",
       "      <td>115</td>\n",
       "      <td>m²</td>\n",
       "      <td>Radimova</td>\n",
       "      <td>Praha 6</td>\n",
       "      <td>Břevnov</td>\n",
       "      <td>36000</td>\n",
       "      <td>New buildings</td>\n",
       "    </tr>\n",
       "  </tbody>\n",
       "</table>\n",
       "</div>"
      ],
      "text/plain": [
       "  types  sizes units         streets municipal_district neighbourhood  price  \\\n",
       "0  2+kt     50    m²  Pod Vyšehradem            Praha 4        Podolí  21000   \n",
       "1   2+1     47    m²          Odborů            Praha 2         Město  24000   \n",
       "2  3+kt     70    m²       Tomáškova            Praha 5       Smíchov  25000   \n",
       "3   2+1     40    m²    Souběžná III            Praha 5      Jinonice  15000   \n",
       "4  3+kt    115    m²        Radimova            Praha 6       Břevnov  36000   \n",
       "\n",
       "        other_features  \n",
       "0              Garage   \n",
       "1  Grocery 5 min walk   \n",
       "2              Cellar   \n",
       "3             Terrace   \n",
       "4       New buildings   "
      ]
     },
     "execution_count": 136,
     "metadata": {},
     "output_type": "execute_result"
    }
   ],
   "source": [
    "prague_rent.head()"
   ]
  },
  {
   "cell_type": "markdown",
   "id": "31ca285e",
   "metadata": {},
   "source": [
    "#### Feature Engineering\n"
   ]
  },
  {
   "cell_type": "code",
   "execution_count": 137,
   "id": "c0427409",
   "metadata": {},
   "outputs": [],
   "source": [
    "#Calculating CostPerSquaremetre\n",
    "prague_rent['CostPerSquaremetre']= prague_rent['price']/prague_rent['sizes']"
   ]
  },
  {
   "cell_type": "code",
   "execution_count": 138,
   "id": "f201f3e2",
   "metadata": {},
   "outputs": [],
   "source": [
    "prague_rent['CostPerSquaremetre']=prague_rent['CostPerSquaremetre'].round(0)"
   ]
  },
  {
   "cell_type": "code",
   "execution_count": 139,
   "id": "f023c75e",
   "metadata": {},
   "outputs": [],
   "source": [
    "#does this apartment contain separate kitchen?\n",
    "prague_rent['Separate_kitchen']=prague_rent['types'].apply(kitchen)"
   ]
  },
  {
   "cell_type": "code",
   "execution_count": 140,
   "id": "75064d94",
   "metadata": {},
   "outputs": [],
   "source": [
    "#defining data category\n",
    "prague_rent['data category']= 'prague_rent'"
   ]
  },
  {
   "cell_type": "code",
   "execution_count": 141,
   "id": "98a0f931",
   "metadata": {},
   "outputs": [
    {
     "data": {
      "text/html": [
       "<div>\n",
       "<style scoped>\n",
       "    .dataframe tbody tr th:only-of-type {\n",
       "        vertical-align: middle;\n",
       "    }\n",
       "\n",
       "    .dataframe tbody tr th {\n",
       "        vertical-align: top;\n",
       "    }\n",
       "\n",
       "    .dataframe thead th {\n",
       "        text-align: right;\n",
       "    }\n",
       "</style>\n",
       "<table border=\"1\" class=\"dataframe\">\n",
       "  <thead>\n",
       "    <tr style=\"text-align: right;\">\n",
       "      <th></th>\n",
       "      <th>types</th>\n",
       "      <th>sizes</th>\n",
       "      <th>units</th>\n",
       "      <th>streets</th>\n",
       "      <th>municipal_district</th>\n",
       "      <th>neighbourhood</th>\n",
       "      <th>price</th>\n",
       "      <th>other_features</th>\n",
       "      <th>CostPerSquaremetre</th>\n",
       "      <th>Separate_kitchen</th>\n",
       "      <th>data category</th>\n",
       "    </tr>\n",
       "  </thead>\n",
       "  <tbody>\n",
       "    <tr>\n",
       "      <th>0</th>\n",
       "      <td>2+kt</td>\n",
       "      <td>50</td>\n",
       "      <td>m²</td>\n",
       "      <td>Pod Vyšehradem</td>\n",
       "      <td>Praha 4</td>\n",
       "      <td>Podolí</td>\n",
       "      <td>21000</td>\n",
       "      <td>Garage</td>\n",
       "      <td>420.0</td>\n",
       "      <td>0</td>\n",
       "      <td>prague_rent</td>\n",
       "    </tr>\n",
       "    <tr>\n",
       "      <th>1</th>\n",
       "      <td>2+1</td>\n",
       "      <td>47</td>\n",
       "      <td>m²</td>\n",
       "      <td>Odborů</td>\n",
       "      <td>Praha 2</td>\n",
       "      <td>Město</td>\n",
       "      <td>24000</td>\n",
       "      <td>Grocery 5 min walk</td>\n",
       "      <td>511.0</td>\n",
       "      <td>1</td>\n",
       "      <td>prague_rent</td>\n",
       "    </tr>\n",
       "    <tr>\n",
       "      <th>2</th>\n",
       "      <td>3+kt</td>\n",
       "      <td>70</td>\n",
       "      <td>m²</td>\n",
       "      <td>Tomáškova</td>\n",
       "      <td>Praha 5</td>\n",
       "      <td>Smíchov</td>\n",
       "      <td>25000</td>\n",
       "      <td>Cellar</td>\n",
       "      <td>357.0</td>\n",
       "      <td>0</td>\n",
       "      <td>prague_rent</td>\n",
       "    </tr>\n",
       "    <tr>\n",
       "      <th>3</th>\n",
       "      <td>2+1</td>\n",
       "      <td>40</td>\n",
       "      <td>m²</td>\n",
       "      <td>Souběžná III</td>\n",
       "      <td>Praha 5</td>\n",
       "      <td>Jinonice</td>\n",
       "      <td>15000</td>\n",
       "      <td>Terrace</td>\n",
       "      <td>375.0</td>\n",
       "      <td>1</td>\n",
       "      <td>prague_rent</td>\n",
       "    </tr>\n",
       "    <tr>\n",
       "      <th>4</th>\n",
       "      <td>3+kt</td>\n",
       "      <td>115</td>\n",
       "      <td>m²</td>\n",
       "      <td>Radimova</td>\n",
       "      <td>Praha 6</td>\n",
       "      <td>Břevnov</td>\n",
       "      <td>36000</td>\n",
       "      <td>New buildings</td>\n",
       "      <td>313.0</td>\n",
       "      <td>0</td>\n",
       "      <td>prague_rent</td>\n",
       "    </tr>\n",
       "  </tbody>\n",
       "</table>\n",
       "</div>"
      ],
      "text/plain": [
       "  types  sizes units         streets municipal_district neighbourhood  price  \\\n",
       "0  2+kt     50    m²  Pod Vyšehradem            Praha 4        Podolí  21000   \n",
       "1   2+1     47    m²          Odborů            Praha 2         Město  24000   \n",
       "2  3+kt     70    m²       Tomáškova            Praha 5       Smíchov  25000   \n",
       "3   2+1     40    m²    Souběžná III            Praha 5      Jinonice  15000   \n",
       "4  3+kt    115    m²        Radimova            Praha 6       Břevnov  36000   \n",
       "\n",
       "        other_features  CostPerSquaremetre Separate_kitchen data category  \n",
       "0              Garage                420.0                0   prague_rent  \n",
       "1  Grocery 5 min walk                511.0                1   prague_rent  \n",
       "2              Cellar                357.0                0   prague_rent  \n",
       "3             Terrace                375.0                1   prague_rent  \n",
       "4       New buildings                313.0                0   prague_rent  "
      ]
     },
     "execution_count": 141,
     "metadata": {},
     "output_type": "execute_result"
    }
   ],
   "source": [
    "prague_rent.head()"
   ]
  },
  {
   "cell_type": "markdown",
   "id": "a61a56c8",
   "metadata": {},
   "source": [
    "#### Loading data to CSV and importing to Tableau for More visualisation"
   ]
  },
  {
   "cell_type": "code",
   "execution_count": 157,
   "id": "28aa4b4e",
   "metadata": {},
   "outputs": [],
   "source": [
    "#unioning files by city\n",
    "brno_all_data=pd.concat([brno_sales,brno_rent], axis=0).reset_index()"
   ]
  },
  {
   "cell_type": "code",
   "execution_count": 158,
   "id": "42620ee0",
   "metadata": {},
   "outputs": [],
   "source": [
    "prague_all_data=pd.concat([prague_sales,prague_rent], axis=0).reset_index()"
   ]
  },
  {
   "cell_type": "code",
   "execution_count": null,
   "id": "96f19701",
   "metadata": {},
   "outputs": [],
   "source": []
  },
  {
   "cell_type": "code",
   "execution_count": 159,
   "id": "c853b6cf",
   "metadata": {},
   "outputs": [],
   "source": [
    "#Loading file 1\n",
    "brno_all_data.to_excel('brno_all_data.xlsx', index=False)"
   ]
  },
  {
   "cell_type": "code",
   "execution_count": 160,
   "id": "65fe8d39",
   "metadata": {},
   "outputs": [],
   "source": [
    "#Loading file 2\n",
    "prague_all_data.to_excel('prague_all_data.xlsx', index=False)"
   ]
  },
  {
   "cell_type": "code",
   "execution_count": null,
   "id": "e6222db3",
   "metadata": {},
   "outputs": [],
   "source": []
  }
 ],
 "metadata": {
  "kernelspec": {
   "display_name": "Python 3 (ipykernel)",
   "language": "python",
   "name": "python3"
  },
  "language_info": {
   "codemirror_mode": {
    "name": "ipython",
    "version": 3
   },
   "file_extension": ".py",
   "mimetype": "text/x-python",
   "name": "python",
   "nbconvert_exporter": "python",
   "pygments_lexer": "ipython3",
   "version": "3.9.13"
  }
 },
 "nbformat": 4,
 "nbformat_minor": 5
}
